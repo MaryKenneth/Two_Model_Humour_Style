{
 "cells": [
  {
   "cell_type": "markdown",
   "metadata": {},
   "source": [
    "# Import Libraries"
   ]
  },
  {
   "cell_type": "code",
   "execution_count": 1,
   "metadata": {},
   "outputs": [
    {
     "name": "stdout",
     "output_type": "stream",
     "text": [
      "WARNING:tensorflow:From c:\\Users\\maryk\\anaconda3\\Lib\\site-packages\\keras\\src\\losses.py:2976: The name tf.losses.sparse_softmax_cross_entropy is deprecated. Please use tf.compat.v1.losses.sparse_softmax_cross_entropy instead.\n",
      "\n"
     ]
    }
   ],
   "source": [
    "from FlagEmbedding import FlagModel\n",
    "from sentence_transformers import SentenceTransformer,util\n",
    "\n",
    "import pandas as pd\n",
    "import numpy as np\n",
    "from sklearn.model_selection import train_test_split, cross_val_score, cross_val_predict\n",
    "from sklearn.metrics import classification_report,confusion_matrix\n",
    "\n",
    "from sklearn.ensemble import RandomForestClassifier\n",
    "import xgboost as xgb\n",
    "import torch\n",
    "import torch.nn as nn\n",
    "import torch.nn.functional as F\n",
    "import matplotlib.pyplot as plt\n",
    "import joblib"
   ]
  },
  {
   "cell_type": "markdown",
   "metadata": {},
   "source": [
    "# Functions"
   ]
  },
  {
   "cell_type": "markdown",
   "metadata": {},
   "source": [
    "### Read datasets function"
   ]
  },
  {
   "cell_type": "code",
   "execution_count": 2,
   "metadata": {},
   "outputs": [],
   "source": [
    "# Read a single Dataset File\n",
    "def read_dataset(file_path):\n",
    "    if file_path.lower().endswith('.csv'):\n",
    "        dataset = pd.read_csv(file_path)\n",
    "    elif file_path.lower().endswith('.xlsx'):\n",
    "        dataset = pd.read_excel(file_path)\n",
    "    else:\n",
    "        raise ValueError(\"Unsupported file format. Please provide a .csv or .xlsx file.\")\n",
    "    \n",
    "    dataset   = np.array(dataset)\n",
    "    data_train, data_test     = train_test_split(dataset, test_size=0.2, random_state=100)\n",
    "\n",
    "    x_train, y_train   = (data_train[:,:-1]), (data_train[:,-1]).astype(\"int32\")\n",
    "    x_test, y_test     = (data_test[:,:-1]), (data_test[:,-1]).astype(\"int32\")           \n",
    "    x_train, x_test    = x_train.squeeze(), x_test.squeeze()\n",
    "\n",
    "    return x_train, x_test, y_train, y_test\n",
    "\n",
    "\n",
    "# If you have Train and Test Datasets separate\n",
    "def read_train_test_dataset(train_data, test_data):\n",
    "    if train_data.lower().endswith('.csv') and test_data.lower().endswith('.csv'):\n",
    "        train_data = pd.read_csv(train_data)\n",
    "        test_data = pd.read_csv(test_data)\n",
    "    elif train_data.lower().endswith('.xlsx') and test_data.lower().endswith('.xlsx'):\n",
    "        train_data = pd.read_excel(train_data)\n",
    "        test_data = pd.read_excel(test_data)\n",
    "    else:\n",
    "        raise ValueError(\"Unsupported file format. Please provide a .csv or .xlsx file.\")\n",
    "    \n",
    "    train_data, test_data   = np.array(train_data), np.array(test_data)\n",
    "\n",
    "    x_train, y_train   = (train_data[:,:-1]), (train_data[:,-1]).astype(\"int32\")\n",
    "    x_test, y_test     = (test_data[:,:-1]), (test_data[:,-1]).astype(\"int32\")           \n",
    "    x_train, x_test    = x_train.squeeze(), x_test.squeeze()\n",
    "\n",
    "    return x_train, x_test, y_train, y_test"
   ]
  },
  {
   "cell_type": "markdown",
   "metadata": {},
   "source": [
    "### Embedding Models\n"
   ]
  },
  {
   "cell_type": "code",
   "execution_count": 3,
   "metadata": {},
   "outputs": [],
   "source": [
    "def BGE(sentences):\n",
    "    model = SentenceTransformer('BAAI/bge-large-zh-v1.5')  # 20\n",
    "    dataset_embedding = model.encode(sentences, normalize_embeddings=True)\n",
    "    return dataset_embedding\n",
    "\n",
    "def GTE(sentences):\n",
    "    model = SentenceTransformer('thenlper/gte-large')  # 29 MTEB Rank\n",
    "    dataset_embedding = model.encode(sentences, normalize_embeddings=True)\n",
    "    return dataset_embedding\n",
    "\n",
    "def UAE(sentences):\n",
    "    model = SentenceTransformer(\"WhereIsAI/UAE-Large-V1\")  # 13th UAE\n",
    "    dataset_embedding = model.encode(sentences, normalize_embeddings=True)\n",
    "    return dataset_embedding\n",
    "\n",
    "def MRL(sentences):\n",
    "    dimensions = 512\n",
    "    model = SentenceTransformer(\"mixedbread-ai/mxbai-embed-large-v1\", truncate_dim=dimensions) # 12th MTEB rank\n",
    "    dataset_embedding = model.encode(sentences, normalize_embeddings=True)\n",
    "    return dataset_embedding\n",
    "\n",
    "def ALI(sentences):\n",
    "    model = SentenceTransformer('Alibaba-NLP/gte-large-en-v1.5', trust_remote_code=True) # 9 MTEB rank\n",
    "    dataset_embedding = model.encode(sentences, normalize_embeddings=True)\n",
    "    return dataset_embedding\n",
    "\n",
    "def MUL(sentences):\n",
    "    model = SentenceTransformer('intfloat/multilingual-e5-large-instruct')  # 17th Multilingual-E5-large-instruct\n",
    "    dataset_embedding = model.encode(sentences, normalize_embeddings=True)\n",
    "    return dataset_embedding"
   ]
  },
  {
   "cell_type": "markdown",
   "metadata": {},
   "source": [
    "### Save model results"
   ]
  },
  {
   "cell_type": "code",
   "execution_count": 4,
   "metadata": {},
   "outputs": [],
   "source": [
    "def save_results(true_label, predicted):\n",
    "    report_dict = classification_report(true_label,predicted,output_dict=True)\n",
    "\n",
    "    # Save Result Report\n",
    "    save_report = pd.DataFrame(report_dict).transpose()  # Convert the report dictionary to a DataFrame\n",
    "    save_report = save_report.round(3)                   # Round the values to a specific number of decimal places\n",
    "    save_report = save_report.astype({'support': int})   # Convert the 'support' column to integers\n",
    "    save_report.loc['accuracy', ['precision', 'recall', 'support']] = [None, None, None] # Set the accuracy row to None\n",
    "\n",
    "    return save_report"
   ]
  },
  {
   "cell_type": "markdown",
   "metadata": {},
   "source": [
    "## Classifiers "
   ]
  },
  {
   "cell_type": "markdown",
   "metadata": {},
   "source": [
    "### Random Forest "
   ]
  },
  {
   "cell_type": "code",
   "execution_count": 5,
   "metadata": {},
   "outputs": [],
   "source": [
    "def randomforest(x_train, y_train):\n",
    "    classes = np.unique(y_train)\n",
    "    # Create RandomForestClassifier\n",
    "    rf_classifier = RandomForestClassifier(n_estimators=100, random_state=100)\n",
    "\n",
    "    # Perform cross-validation\n",
    "    cv_scores = cross_val_score(rf_classifier, x_train, y_train, cv=5, scoring='accuracy')               # Accuracy score\n",
    "    precision_scores = cross_val_score(rf_classifier, x_train, y_train, cv=5, scoring='precision_macro') # precision score\n",
    "    recall_scores = cross_val_score(rf_classifier, x_train, y_train, cv=5, scoring='recall_macro')       # Recall score\n",
    "    f1_scores = cross_val_score(rf_classifier, x_train, y_train, cv=5, scoring='f1_macro')               # F1-score score\n",
    "    y_pred = cross_val_predict(rf_classifier, x_train, y_train, cv=5)                                    # Get predictions\n",
    "    conf_matrix = confusion_matrix(y_train, y_pred, labels=classes)                                                      # Compute combined CM\n",
    "\n",
    "    # Train the model\n",
    "    rf_classifier.fit(x_train, y_train)\n",
    "    header = np.array([\"Accuracy\", \"Precision\", \"Recall\", \"F1-score\"])\n",
    "    result_matrix =np.vstack((cv_scores,precision_scores,recall_scores,f1_scores)).T\n",
    "    \n",
    "    # Average across all folds\n",
    "    mean_accuracy = np.mean(result_matrix[0:, 0], dtype=np.float64)\n",
    "    mean_precision = np.mean(result_matrix[0:, 1], dtype=np.float64)\n",
    "    mean_recall = np.mean(result_matrix[0:, 2], dtype=np.float64)\n",
    "    mean_f1 = np.mean(result_matrix[0:, 3], dtype=np.float64)\n",
    "    mean_array = np.hstack((mean_accuracy, mean_precision,mean_recall, mean_f1))\n",
    "\n",
    "    # Combine the header with the result matrix\n",
    "    result_matrix_with_header = np.vstack([header, result_matrix, mean_array])\n",
    "    result_matrix_with_header = pd.DataFrame(result_matrix_with_header)\n",
    "\n",
    "    return rf_classifier, result_matrix_with_header, conf_matrix"
   ]
  },
  {
   "cell_type": "markdown",
   "metadata": {},
   "source": [
    "### XGBoost "
   ]
  },
  {
   "cell_type": "code",
   "execution_count": 6,
   "metadata": {},
   "outputs": [],
   "source": [
    "def XGBoost(x_train, y_train, num_class):\n",
    "    classes = np.unique(y_train)\n",
    "    # Create an XGBoost classifier\n",
    "    xgb_classifier = xgb.XGBClassifier(objective='multi:softmax', num_class=num_class, random_state=100)\n",
    "\n",
    "    # Perform cross-validation\n",
    "    cv_scores = cross_val_score(xgb_classifier, x_train, y_train, cv=5, scoring='accuracy')\n",
    "    precision_scores = cross_val_score(xgb_classifier, x_train, y_train, cv=5, scoring='precision_macro') # precision score\n",
    "    recall_scores = cross_val_score(xgb_classifier, x_train, y_train, cv=5, scoring='recall_macro')       # Recall score\n",
    "    f1_scores = cross_val_score(xgb_classifier, x_train, y_train, cv=5, scoring='f1_macro')               # F1-score score\n",
    "    y_pred = cross_val_predict(xgb_classifier, x_train, y_train, cv=5)                                    # Get predictions\n",
    "    conf_matrix = confusion_matrix(y_train, y_pred, labels=classes)                                                      # Compute combined CM\n",
    "\n",
    "    # Train the model\n",
    "    xgb_classifier.fit(x_train, y_train)\n",
    "\n",
    "    header = np.array([\"Accuracy\", \"Precision\", \"Recall\", \"F1-score\"])\n",
    "    result_matrix =np.vstack((cv_scores,precision_scores,recall_scores,f1_scores)).T\n",
    "\n",
    "    # Average across all folds\n",
    "    mean_accuracy = np.mean(result_matrix[0:, 0], dtype=np.float64)\n",
    "    mean_precision = np.mean(result_matrix[0:, 1], dtype=np.float64)\n",
    "    mean_recall = np.mean(result_matrix[0:, 2], dtype=np.float64)\n",
    "    mean_f1 = np.mean(result_matrix[0:, 3], dtype=np.float64)\n",
    "    mean_array = np.hstack((mean_accuracy, mean_precision,mean_recall, mean_f1))\n",
    "\n",
    "    # Combine the header with the result matrix\n",
    "    result_matrix_with_header = np.vstack([header, result_matrix, mean_array])\n",
    "    result_matrix_with_header = pd.DataFrame(result_matrix_with_header)\n",
    "\n",
    "    return xgb_classifier, result_matrix_with_header, conf_matrix"
   ]
  },
  {
   "cell_type": "markdown",
   "metadata": {},
   "source": [
    "### Predict Function"
   ]
  },
  {
   "cell_type": "code",
   "execution_count": 7,
   "metadata": {},
   "outputs": [],
   "source": [
    "def prediction(classifier, x_test, y_test):\n",
    "    y_pred = classifier.predict(x_test)\n",
    "\n",
    "    # Evaluate the model\n",
    "    class_report = classification_report(y_test, y_pred)\n",
    "\n",
    "    return y_pred, class_report"
   ]
  },
  {
   "cell_type": "markdown",
   "metadata": {},
   "source": [
    "# Five class Classification"
   ]
  },
  {
   "cell_type": "code",
   "execution_count": 8,
   "metadata": {},
   "outputs": [],
   "source": [
    "# Read dataset \n",
    "humor_5class_path = \"datasets/Humour_style.xlsx\" \n",
    "x_train_5, x_test_5, y_train_5, y_test_5 = read_dataset(humor_5class_path)"
   ]
  },
  {
   "cell_type": "markdown",
   "metadata": {},
   "source": [
    "#### Embedding Text"
   ]
  },
  {
   "cell_type": "code",
   "execution_count": 10,
   "metadata": {},
   "outputs": [],
   "source": [
    "# BGE Embedding Model\n",
    "x_train_5_bge, x_test_5_bge = BGE(x_train_5), BGE(x_test_5)\n",
    "\n",
    "# GTE Embedding Model\n",
    "x_train_5_gte, x_test_5_gte = GTE(x_train_5), GTE(x_test_5)\n",
    "\n",
    "# UAE Embedding Model\n",
    "x_train_5_uae, x_test_5_uae = UAE(x_train_5), UAE(x_test_5)\n",
    "\n",
    "# MRL Embedding Model\n",
    "x_train_5_mrl, x_test_5_mrl = MRL(x_train_5), MRL(x_test_5)\n",
    "\n",
    "# ALI Embedding Model\n",
    "x_train_5_ali, x_test_5_ali = ALI(x_train_5), ALI(x_test_5)\n",
    "\n",
    "# MUL Embedding Model\n",
    "x_train_5_mul, x_test_5_mul = MUL(x_train_5), MUL(x_test_5)"
   ]
  },
  {
   "cell_type": "markdown",
   "metadata": {},
   "source": [
    "##### Random Forest Training, Validation and Prediction"
   ]
  },
  {
   "cell_type": "code",
   "execution_count": 23,
   "metadata": {},
   "outputs": [
    {
     "name": "stdout",
     "output_type": "stream",
     "text": [
      "RF BGE: Cross Val                     0                   1                   2  \\\n",
      "0            Accuracy           Precision              Recall   \n",
      "1  0.7222222222222222  0.7206832298136646  0.6976122561648878   \n",
      "2  0.6837606837606838  0.6890666870130603  0.6550118184552147   \n",
      "3  0.6752136752136753  0.6599020359485476  0.6461255407010125   \n",
      "4  0.7008547008547008  0.6867483279038407  0.6747605845526782   \n",
      "5  0.6794871794871795  0.6834523809523809  0.6556079988806225   \n",
      "6  0.6923076923076923  0.6879705323262988  0.6658236397508832   \n",
      "\n",
      "                    3  \n",
      "0            F1-score  \n",
      "1  0.6819060384232052  \n",
      "2  0.6412395454649517  \n",
      "3  0.6349611856033874  \n",
      "4  0.6597425152037113  \n",
      "5  0.6424843456518958  \n",
      "6  0.6520667260694303  \n",
      "               precision    recall  f1-score   support\n",
      "\n",
      "           0       0.79      0.82      0.80        60\n",
      "           1       0.72      0.73      0.73        45\n",
      "           2       0.77      0.27      0.40        62\n",
      "           3       0.51      0.81      0.63        58\n",
      "           4       0.85      0.88      0.86        68\n",
      "\n",
      "    accuracy                           0.70       293\n",
      "   macro avg       0.73      0.70      0.68       293\n",
      "weighted avg       0.73      0.70      0.69       293\n",
      "\n",
      "RF GTE: Cross Val                     0                   1                   2  \\\n",
      "0            Accuracy           Precision              Recall   \n",
      "1  0.6794871794871795  0.6781705409436503  0.6617592933382407   \n",
      "2  0.6837606837606838  0.6757135655834654   0.661409474852871   \n",
      "3  0.6923076923076923  0.7300618712123473  0.6699327147440355   \n",
      "4  0.6923076923076923  0.6855187565652978  0.6669492469541065   \n",
      "5  0.6752136752136753  0.6746271990420927  0.6563960548737324   \n",
      "6  0.6846153846153846  0.6888183866693708  0.6632893569525973   \n",
      "\n",
      "                    3  \n",
      "0            F1-score  \n",
      "1  0.6589996387358402  \n",
      "2   0.657974716339608  \n",
      "3  0.6735773206159426  \n",
      "4  0.6545903384930197  \n",
      "5  0.6474409081384614  \n",
      "6  0.6585165844645744  \n",
      "               precision    recall  f1-score   support\n",
      "\n",
      "           0       0.78      0.87      0.82        60\n",
      "           1       0.80      0.73      0.77        45\n",
      "           2       0.62      0.24      0.35        62\n",
      "           3       0.60      0.81      0.69        58\n",
      "           4       0.76      0.93      0.83        68\n",
      "\n",
      "    accuracy                           0.72       293\n",
      "   macro avg       0.71      0.72      0.69       293\n",
      "weighted avg       0.71      0.72      0.69       293\n",
      "\n"
     ]
    }
   ],
   "source": [
    "# Train, CrossValidation and Prediction using Random Forest\n",
    "RF_bge_classifier5, RF_bge_cv_scores5,RF_bge_cm5 = randomforest(x_train_5_bge,y_train_5)\n",
    "RF_bge_y_pred5, RF_bge_class_report5             = prediction(RF_bge_classifier5,x_test_5_bge, y_test_5)\n",
    "\n",
    "RF_gteclassifier5, RF_gte_cv_scores5,RF_gte_cm5  = randomforest(x_train_5_gte, y_train_5)\n",
    "RF_gte_y_pred5, RF_gte_class_report5             = prediction(RF_gteclassifier5, x_test_5_gte, y_test_5)\n",
    "\n",
    "RF_uae_classifier5, RF_uae_cv_scores5,RF_uae_cm5 = randomforest(x_train_5_uae,y_train_5)\n",
    "RF_uae_y_pred5, RF_uae_class_report5             = prediction(RF_uae_classifier5,x_test_5_uae, y_test_5)\n",
    "\n",
    "RF_mrl_classifier5, RF_mrl_cv_scores5,RF_mrl_cm5 = randomforest(x_train_5_mrl,y_train_5)\n",
    "RF_mrl_y_pred5, RF_mrl_class_report5             = prediction(RF_mrl_classifier5,x_test_5_mrl, y_test_5)\n",
    "\n",
    "RF_ali_classifier5, RF_ali_cv_scores5,RF_ali_cm5 = randomforest(x_train_5_ali,y_train_5)\n",
    "RF_ali_y_pred5, RF_ali_class_report5             = prediction(RF_ali_classifier5,x_test_5_ali, y_test_5)\n",
    "\n",
    "RF_mul_classifier5, RF_mul_cv_scores5,RF_mul_cm5 = randomforest(x_train_5_mul,y_train_5)\n",
    "RF_mul_y_pred5, RF_mul_class_report5             = prediction(RF_mul_classifier5,x_test_5_mul, y_test_5)\n",
    "\n",
    "# Save Report\n",
    "RF_bge_result_5= save_results(y_test_5,RF_bge_y_pred5)\n",
    "RF_bge_result_5.to_csv('models_results/RF_bge_5classes.csv', index=False)              #Prediction Result\n",
    "RF_bge_cv_scores5.to_csv('cross_validation_results/RF_bge_5classes.csv', index=False)  #Cross Validation Result\n",
    "\n",
    "RF_gte_result_5 = save_results(y_test_5,RF_gte_y_pred5)\n",
    "RF_gte_result_5.to_csv('models_results/RF_gte_5classes.csv', index=False)              #Prediction Result\n",
    "RF_gte_cv_scores5.to_csv('cross_validation_results/RF_gte_5classes.csv', index=False)  #Cross Validation Result\n",
    "\n",
    "RF_uae_result_5 = save_results(y_test_5,RF_uae_y_pred5)\n",
    "RF_uae_result_5.to_csv('models_results/RF_uae_5classes.csv', index=False)              #Prediction Result\n",
    "RF_uae_cv_scores5.to_csv('cross_validation_results/RF_uae_5classes.csv', index=False)  #Cross Validation Result\n",
    "\n",
    "RF_mrl_result_5 = save_results(y_test_5,RF_mrl_y_pred5)\n",
    "RF_mrl_result_5.to_csv('models_results/RF_mrl_5classes.csv', index=False)              #Prediction Result\n",
    "RF_mrl_cv_scores5.to_csv('cross_validation_results/RF_mrl_5classes.csv', index=False)  #Cross Validation Result\n",
    "\n",
    "RF_ali_result_5 = save_results(y_test_5,RF_ali_y_pred5)\n",
    "RF_ali_result_5.to_csv('models_results/RF_ali_5classes.csv', index=False)              #Prediction Result\n",
    "RF_ali_cv_scores5.to_csv('cross_validation_results/RF_ali_5classes.csv', index=False)  #Cross Validation Result\n",
    "\n",
    "RF_mul_result_5 = save_results(y_test_5,RF_mul_y_pred5)\n",
    "RF_mul_result_5.to_csv('models_results/RF_mul_5classes.csv', index=False)              #Prediction Result\n",
    "RF_mul_cv_scores5.to_csv('cross_validation_results/RF_mul_5classes.csv', index=False)  #Cross Validation Result\n",
    "\n",
    "# Evaluation Report\n",
    "print(f'RF BGE: Cross Val {RF_bge_cv_scores5}\\n {RF_bge_class_report5}')\n",
    "print(f'RF GTE: Cross Val {RF_gte_cv_scores5}\\n {RF_gte_class_report5}')"
   ]
  },
  {
   "cell_type": "code",
   "execution_count": 24,
   "metadata": {},
   "outputs": [
    {
     "name": "stdout",
     "output_type": "stream",
     "text": [
      "RF GTE: Cross Val                     0                   1                   2  \\\n",
      "0            Accuracy           Precision              Recall   \n",
      "1  0.7051282051282052  0.6978837492391966  0.6847411360569254   \n",
      "2  0.7222222222222222  0.7070964903374285  0.7015462652255106   \n",
      "3  0.7564102564102564  0.7862473794549266  0.7321858703934175   \n",
      "4  0.7094017094017094  0.7075046303441889  0.6883200722453612   \n",
      "5  0.7008547008547008  0.6709130983487087  0.6789824967232054   \n",
      "6  0.7188034188034189  0.7139290695448899   0.697155168128884   \n",
      "\n",
      "                    3  \n",
      "0            F1-score  \n",
      "1  0.6746133831641576  \n",
      "2  0.6980024658506714  \n",
      "3  0.7337177531334562  \n",
      "4  0.6794906755897467  \n",
      "5   0.666343968769598  \n",
      "6   0.690433649301526  \n",
      "               precision    recall  f1-score   support\n",
      "\n",
      "           0       0.81      0.90      0.85        60\n",
      "           1       0.69      0.64      0.67        45\n",
      "           2       0.71      0.35      0.47        62\n",
      "           3       0.58      0.81      0.68        58\n",
      "           4       0.85      0.90      0.87        68\n",
      "\n",
      "    accuracy                           0.73       293\n",
      "   macro avg       0.73      0.72      0.71       293\n",
      "weighted avg       0.73      0.73      0.71       293\n",
      "\n"
     ]
    }
   ],
   "source": [
    "print(f'RF GTE: Cross Val {RF_mul_cv_scores5}\\n {RF_mul_class_report5}')"
   ]
  },
  {
   "cell_type": "markdown",
   "metadata": {},
   "source": [
    "##### XGBOOST Training, validation and Prediction"
   ]
  },
  {
   "cell_type": "code",
   "execution_count": null,
   "metadata": {},
   "outputs": [],
   "source": [
    "# Train, CrossValidation and Prediction using XGBOOST\n",
    "xg_bge_classifier5, xg_bge_cv_scores5,xg_bge_cm5 = XGBoost(x_train_5_bge,y_train_5,5)\n",
    "xg_bge_y_pred5, xg_bge_class_report5             = prediction(xg_bge_classifier5, x_test_5_bge, y_test_5)\n",
    "\n",
    "xg_gte_classifier5, xg_gte_cv_scores5,xg_gte_cm5 = XGBoost(x_train_5_gte,y_train_5,5)\n",
    "xg_gte_y_pred5, xg_gte_class_report5             = prediction(xg_gte_classifier5, x_test_5_gte, y_test_5)\n",
    "\n",
    "xg_uae_classifier5, xg_uae_cv_scores5,xg_uae_cm5 = XGBoost(x_train_5_uae,y_train_5,5)\n",
    "xg_uae_y_pred5, xg_uae_class_report5             = prediction(xg_uae_classifier5, x_test_5_uae, y_test_5)\n",
    "\n",
    "xg_mrl_classifier5, xg_mrl_cv_scores5,xg_mrl_cm5 = XGBoost(x_train_5_mrl,y_train_5,5)\n",
    "xg_mrl_y_pred5, xg_mrl_class_report5             = prediction(xg_mrl_classifier5, x_test_5_mrl, y_test_5)\n",
    "\n",
    "xg_ali_classifier5, xg_ali_cv_scores5,xg_ali_cm5 = XGBoost(x_train_5_ali,y_train_5,5)\n",
    "xg_ali_y_pred5, xg_ali_class_report5             = prediction(xg_ali_classifier5, x_test_5_ali, y_test_5)\n",
    "\n",
    "xg_mul_classifier5, xg_mul_cv_scores5,xg_mul_cm5 = XGBoost(x_train_5_mul,y_train_5,5)\n",
    "xg_mul_y_pred5, xg_mul_class_report5             = prediction(xg_mul_classifier5, x_test_5_mul, y_test_5)\n",
    "\n",
    "\n",
    "# Save Report\n",
    "xg_bge_result_5= save_results(y_test_5, xg_bge_y_pred5)\n",
    "xg_bge_result_5.to_csv('models_results/XG_bge_5classes.csv', index=False)\n",
    "xg_bge_cv_scores5.to_csv('cross_validation_results/XG_bge_5classes.csv', index=False)  #Cross Validation Result\n",
    "\n",
    "xg_gte_result_5 = save_results(y_test_5, xg_gte_y_pred5)\n",
    "xg_gte_result_5.to_csv('models_results/XG_gte_5classes.csv', index=False)\n",
    "xg_gte_cv_scores5.to_csv('cross_validation_results/XG_gte_5classes.csv', index=False)  #Cross Validation Result\n",
    "\n",
    "xg_uae_result_5 = save_results(y_test_5, xg_uae_y_pred5)\n",
    "xg_uae_result_5.to_csv('models_results/XG_uae_5classes.csv', index=False)\n",
    "xg_uae_cv_scores5.to_csv('cross_validation_results/XG_uae_5classes.csv', index=False)  #Cross Validation Result\n",
    "\n",
    "xg_mrl_result_5= save_results(y_test_5, xg_mrl_y_pred5)\n",
    "xg_mrl_result_5.to_csv('models_results/XG_mrl_5classes.csv', index=False)\n",
    "xg_mrl_cv_scores5.to_csv('cross_validation_results/XG_mrl_5classes.csv', index=False)  #Cross Validation Result\n",
    "\n",
    "xg_ali_result_5 = save_results(y_test_5, xg_ali_y_pred5)\n",
    "xg_ali_result_5.to_csv('models_results/XG_ali_5classes.csv', index=False)\n",
    "xg_ali_cv_scores5.to_csv('cross_validation_results/XG_ali_5classes.csv', index=False)  #Cross Validation Result\n",
    "\n",
    "xg_mul_result_5 = save_results(y_test_5, xg_mul_y_pred5)\n",
    "xg_mul_result_5.to_csv('models_results/XG_mul_5classes.csv', index=False)\n",
    "xg_mul_cv_scores5.to_csv('cross_validation_results/XG_mul_5classes.csv', index=False)  #Cross Validation Result\n",
    "\n",
    "# Evaluation Report\n",
    "print(f'XGBoost BGE: Cross Val {xg_bge_cv_scores5}\\n {xg_bge_class_report5}')\n",
    "print(f'XGBoost GTE: Cross Val {xg_gte_cv_scores5}\\n {xg_gte_class_report5}')"
   ]
  },
  {
   "cell_type": "markdown",
   "metadata": {},
   "source": [
    "## Save and Load XGBoost and Random Forest model"
   ]
  },
  {
   "cell_type": "code",
   "execution_count": 9,
   "metadata": {},
   "outputs": [],
   "source": [
    "# MUL Embedding Model\n",
    "x_train_5_mul, x_test_5_mul = MUL(x_train_5), MUL(x_test_5)"
   ]
  },
  {
   "cell_type": "code",
   "execution_count": 10,
   "metadata": {},
   "outputs": [],
   "source": [
    "RF_mul_classifier5, RF_mul_cv_scores5,RF_mul_cm5 = randomforest(x_train_5_mul,y_train_5)\n",
    "RF_mul_y_pred5, RF_mul_class_report5             = prediction(RF_mul_classifier5,x_test_5_mul, y_test_5)"
   ]
  },
  {
   "cell_type": "code",
   "execution_count": 12,
   "metadata": {},
   "outputs": [],
   "source": [
    "import pickle\n",
    "\n",
    "# When saving\n",
    "with open('random_forest_model.pkl', 'wb') as f:\n",
    "    pickle.dump(RF_mul_classifier5, f, protocol=4)\n",
    "\n",
    "# When loading in your Flask app\n",
    "#with open(model_path, 'rb') as f:\n",
    "#    model_data = pickle.load(f)"
   ]
  },
  {
   "cell_type": "code",
   "execution_count": 29,
   "metadata": {},
   "outputs": [
    {
     "data": {
      "text/plain": [
       "['random_forest_model.pkl']"
      ]
     },
     "execution_count": 29,
     "metadata": {},
     "output_type": "execute_result"
    }
   ],
   "source": [
    "## Save Random forest model\n",
    "#import joblib\n",
    "\n",
    "# Assuming you've trained your model and it's stored in 'my_random_forest'\n",
    "#model_filename = 'random_forest_model.pkl'\n",
    "#joblib.dump(RF_mul_classifier5, model_filename)"
   ]
  },
  {
   "cell_type": "code",
   "execution_count": 28,
   "metadata": {},
   "outputs": [
    {
     "data": {
      "text/plain": [
       "'\\nTo save and Load XGBOOSt\\nimport pickle\\nwith open(\\'mul_xgboost_model.pkl\\', \\'wb\\') as file: # Save the model to a pickle file\\n    pickle.dump(xg_mul_classifier5, file)\\nprint(\"Model saved as xgboost_model.pkl\")\\n\\n# Save the trained model to a.pkl file\\nxg_mul_classifier5.save_model(\\'mul_xgboost_humour_model.json\\')\\t\\nxg_mul_classifier5.save_model(\\'mul_xgboost_humour.ubj\\')\\n# Load the trained model from a.pkl file\\nmodel_name = \\'mul_xgboost_humour_model.json\\'\\nxg_mul = xgb.XGBClassifier()\\nxg_mul.load_model(\\'mul_xgboost_humour.ubj\\')\\n\\n'"
      ]
     },
     "execution_count": 28,
     "metadata": {},
     "output_type": "execute_result"
    }
   ],
   "source": [
    "'''\n",
    "## To save and Load XGBOOSt\n",
    "import pickle\n",
    "with open('mul_xgboost_model.pkl', 'wb') as file: # Save the model to a pickle file\n",
    "    pickle.dump(xg_mul_classifier5, file)\n",
    "print(\"Model saved as xgboost_model.pkl\")\n",
    "\n",
    "# Save the trained model to a.pkl file\n",
    "xg_mul_classifier5.save_model('mul_xgboost_humour_model.json')\t\n",
    "xg_mul_classifier5.save_model('mul_xgboost_humour.ubj')\n",
    "# Load the trained model from a.pkl file\n",
    "model_name = 'mul_xgboost_humour_model.json'\n",
    "xg_mul = xgb.XGBClassifier()\n",
    "xg_mul.load_model('mul_xgboost_humour.ubj')\n",
    "\n",
    "'''"
   ]
  },
  {
   "cell_type": "markdown",
   "metadata": {},
   "source": [
    "## Confusion Matrix"
   ]
  },
  {
   "cell_type": "code",
   "execution_count": 50,
   "metadata": {},
   "outputs": [
    {
     "data": {
      "image/png": "[encoded data removed]",
      "text/plain": [
       "<Figure size 640x480 with 2 Axes>"
      ]
     },
     "metadata": {},
     "output_type": "display_data"
    },
    {
     "data": {
      "image/png": "[encoded data removed]",
      "text/plain": [
       "<Figure size 640x480 with 2 Axes>"
      ]
     },
     "metadata": {},
     "output_type": "display_data"
    },
    {
     "data": {
      "image/png": "[encoded data removed]",
      "text/plain": [
       "<Figure size 640x480 with 2 Axes>"
      ]
     },
     "metadata": {},
     "output_type": "display_data"
    }
   ],
   "source": [
    "from sklearn.metrics import confusion_matrix,ConfusionMatrixDisplay\n",
    "import matplotlib.pyplot as plt\n",
    "\n",
    "classes = np.unique(y_test_5)\n",
    "cm_gte =RF_gte_cm5\n",
    "cm_mul = xg_mul_cm5\n",
    "cm_uae = RF_uae_cm5\n",
    "\n",
    "# Create a ConfusionMatrixDisplay\n",
    "disp = ConfusionMatrixDisplay(confusion_matrix=cm_mul, display_labels=classes)\n",
    "disp.plot(cmap=plt.cm.copper)\n",
    "plt.title(\"MUL+XGBoost Confusion Matrix\")\n",
    "plt.show()\n",
    "\n",
    "# Create a ConfusionMatrixDisplay\n",
    "disp = ConfusionMatrixDisplay(confusion_matrix=cm_gte, display_labels=classes)\n",
    "disp.plot(cmap=plt.cm.Blues)\n",
    "plt.title(\"GTE+RF Confusion Matrix\")\n",
    "plt.show()\n",
    "\n",
    "# Create a ConfusionMatrixDisplay\n",
    "disp = ConfusionMatrixDisplay(confusion_matrix=cm_uae, display_labels=classes)\n",
    "disp.plot(cmap=plt.cm.Greens)\n",
    "plt.title(\"UAE+RF Confusion Matrix\")\n",
    "plt.show()"
   ]
  },
  {
   "cell_type": "code",
   "execution_count": null,
   "metadata": {},
   "outputs": [
    {
     "name": "stdout",
     "output_type": "stream",
     "text": [
      "[[51  6  1  2  0]\n",
      " [ 3 37  2  2  1]\n",
      " [10  5 24 19  4]\n",
      " [ 3  3  5 44  3]\n",
      " [ 0  0  2  6 60]]\n"
     ]
    }
   ],
   "source": [
    "from sklearn.metrics import confusion_matrix\n",
    "con = confusion_matrix(y_test_5, xg_bge_y_pred5)\n",
    "print(con)"
   ]
  },
  {
   "cell_type": "markdown",
   "metadata": {},
   "source": [
    "# Four Classes"
   ]
  },
  {
   "cell_type": "markdown",
   "metadata": {},
   "source": [
    "##### Read Dataset and Embed Sentence"
   ]
  },
  {
   "cell_type": "code",
   "execution_count": 9,
   "metadata": {},
   "outputs": [],
   "source": [
    "# Read dataset \n",
    "humor_4class_path = \"datasets/Humour_style_4classes.xlsx\" \n",
    "x_train_4, x_test_4, y_train_4, y_test_4 = read_dataset(humor_4class_path)"
   ]
  },
  {
   "cell_type": "code",
   "execution_count": null,
   "metadata": {},
   "outputs": [],
   "source": [
    "# BGE Embedding Model\n",
    "x_train_4_bge, x_test_4_bge = BGE(x_train_4), BGE(x_test_4)\n",
    "\n",
    "# GTE Embedding Model\n",
    "x_train_4_gte, x_test_4_gte = GTE(x_train_4), GTE(x_test_4)\n",
    "\n",
    "# UAE Embedding Model\n",
    "x_train_4_uae, x_test_4_uae = UAE(x_train_4), UAE(x_test_4)\n",
    "\n",
    "# MRL Embedding Model\n",
    "x_train_4_mrl, x_test_4_mrl = MRL(x_train_4), MRL(x_test_4)\n",
    "\n",
    "# ALI Embedding Model\n",
    "x_train_4_ali, x_test_4_ali = ALI(x_train_4), ALI(x_test_4)\n",
    "\n",
    "# MUL Embedding Model\n",
    "x_train_4_mul, x_test_4_mul = MUL(x_train_4), MUL(x_test_4)\n"
   ]
  },
  {
   "cell_type": "markdown",
   "metadata": {},
   "source": [
    "##### Random Forest Implementation"
   ]
  },
  {
   "cell_type": "code",
   "execution_count": null,
   "metadata": {},
   "outputs": [],
   "source": [
    "# Training, Validation and prediction Using Random Forest\n",
    "RF_bge_classifier4, RF_bge_cv_scores4,RF_bge_cm4 = randomforest(x_train_4_bge, y_train_4)\n",
    "RF_bge_y_pred4, RF_bge_class_report4             = prediction(RF_bge_classifier4, x_test_4_bge, y_test_4)\n",
    "\n",
    "RF_gte_classifier4, RF_gte_cv_scores4,RF_gte_cm4 = randomforest(x_train_4_gte, y_train_4)\n",
    "RF_gte_y_pred4, RF_gte_class_report4             = prediction(RF_gte_classifier4, x_test_4_gte, y_test_4)\n",
    "\n",
    "RF_uae_classifier4, RF_uae_cv_scores4,RF_uae_cm4 = randomforest(x_train_4_uae,y_train_4)\n",
    "RF_uae_y_pred4, RF_uae_class_report4             = prediction(RF_uae_classifier4,x_test_4_uae, y_test_4)\n",
    "\n",
    "RF_mrl_classifier4, RF_mrl_cv_scores4,RF_mrl_cm4 = randomforest(x_train_4_mrl,y_train_4)\n",
    "RF_mrl_y_pred4, RF_mrl_class_report4             = prediction(RF_mrl_classifier4,x_test_4_mrl, y_test_4)\n",
    "\n",
    "RF_ali_classifier4, RF_ali_cv_scores4,RF_ali_cm4 = randomforest(x_train_4_ali,y_train_4)\n",
    "RF_ali_y_pred4, RF_ali_class_report4             = prediction(RF_ali_classifier4,x_test_4_ali, y_test_4)\n",
    "\n",
    "RF_mul_classifier4, RF_mul_cv_scores4,RF_mul_cm4 = randomforest(x_train_4_mul,y_train_4)\n",
    "RF_mul_y_pred4, RF_mul_class_report4             = prediction(RF_mul_classifier4,x_test_4_mul, y_test_4)\n",
    "\n",
    "\n",
    "# Save Report\n",
    "RF_bge_result_4= save_results(y_test_4,RF_bge_y_pred4)\n",
    "RF_bge_result_4.to_csv('models_results/RF_bge_4classes.csv', index=False)              #Prediction Result\n",
    "RF_bge_cv_scores4.to_csv('cross_validation_results/RF_bge_4classes.csv', index=False)  #Cross Validation Result\n",
    "\n",
    "RF_gte_result_4 = save_results(y_test_4,RF_gte_y_pred4)\n",
    "RF_gte_result_4.to_csv('models_results/RF_gte_4classes.csv', index=False)              #Prediction Result\n",
    "RF_gte_cv_scores4.to_csv('cross_validation_results/RF_gte_4classes.csv', index=False)  #Cross Validation Result\n",
    "\n",
    "RF_uae_result_4 = save_results(y_test_4,RF_uae_y_pred4)\n",
    "RF_uae_result_4.to_csv('models_results/RF_uae_4classes.csv', index=False)              #Prediction Result\n",
    "RF_uae_cv_scores4.to_csv('cross_validation_results/RF_uae_4classes.csv', index=False)  #Cross Validation Result\n",
    "\n",
    "RF_mrl_result_4 = save_results(y_test_4,RF_mrl_y_pred4)\n",
    "RF_mrl_result_4.to_csv('models_results/RF_mrl_4classes.csv', index=False)              #Prediction Result\n",
    "RF_mrl_cv_scores4.to_csv('cross_validation_results/RF_mrl_4classes.csv', index=False)  #Cross Validation Result\n",
    "\n",
    "RF_ali_result_4 = save_results(y_test_4,RF_ali_y_pred4)\n",
    "RF_ali_result_4.to_csv('models_results/RF_ali_4classes.csv', index=False)              #Prediction Result\n",
    "RF_ali_cv_scores4.to_csv('cross_validation_results/RF_ali_4classes.csv', index=False)  #Cross Validation Result\n",
    "\n",
    "RF_mul_result_4 = save_results(y_test_4,RF_mul_y_pred4)\n",
    "RF_mul_result_4.to_csv('models_results/RF_mul_4classes.csv', index=False)              #Prediction Result\n",
    "RF_mul_cv_scores4.to_csv('cross_validation_results/RF_mul_4classes.csv', index=False)  #Cross Validation Result\n",
    "\n",
    "\n",
    "# Evaluation Report\n",
    "print(f'RF BGE: Cross Val {RF_bge_cv_scores4}\\n {RF_bge_class_report4}')\n",
    "print(f'RF GTE: Cross Val {RF_gte_cv_scores4}\\n {RF_gte_class_report4}')"
   ]
  },
  {
   "cell_type": "markdown",
   "metadata": {},
   "source": [
    "##### XGBOOST Implementation"
   ]
  },
  {
   "cell_type": "code",
   "execution_count": null,
   "metadata": {},
   "outputs": [
    {
     "name": "stdout",
     "output_type": "stream",
     "text": [
      "XGBoost BGE: Cross Val                     0                   1                   2  \\\n",
      "0            Accuracy           Precision              Recall   \n",
      "1   0.782051282051282  0.7829222533629828  0.7671280108780109   \n",
      "2  0.8034188034188035  0.8118857092386503  0.7831861986945992   \n",
      "3  0.7478632478632479  0.7601631711899068  0.7131104411188416   \n",
      "4  0.7777777777777778  0.7968135091397257  0.7570332489892908   \n",
      "5  0.8034188034188035  0.8119605735880756  0.7830142046721733   \n",
      "6   0.782905982905983  0.7927490433038683  0.7606944208705831   \n",
      "\n",
      "                    3  \n",
      "0            F1-score  \n",
      "1  0.7737562562397038  \n",
      "2   0.794799694236125  \n",
      "3  0.7295446726196848  \n",
      "4  0.7716984691072691  \n",
      "5  0.7949140760294702  \n",
      "6  0.7729426336464507  \n",
      "               precision    recall  f1-score   support\n",
      "\n",
      "           0       0.80      0.73      0.77        60\n",
      "           1       0.72      0.73      0.73        45\n",
      "           2       0.80      0.85      0.82       120\n",
      "           3       0.89      0.84      0.86        68\n",
      "\n",
      "    accuracy                           0.81       293\n",
      "   macro avg       0.80      0.79      0.79       293\n",
      "weighted avg       0.81      0.81      0.81       293\n",
      "\n",
      "XGBoost GTE: Cross Val                     0                   1                   2  \\\n",
      "0            Accuracy           Precision              Recall   \n",
      "1  0.7735042735042735  0.7811744033998039  0.7698839355089355   \n",
      "2  0.7735042735042735  0.7993911235190305  0.7558913078741624   \n",
      "3  0.7564102564102564  0.7929546944751332  0.7226018198199935   \n",
      "4  0.8076923076923077  0.8226014305093107   0.789537689216533   \n",
      "5  0.7991452991452992  0.8451156422600388  0.7733212798397463   \n",
      "6  0.7820512820512819  0.8082474588326634   0.762247206451874   \n",
      "\n",
      "                    3  \n",
      "0            F1-score  \n",
      "1  0.7736974752753153  \n",
      "2  0.7726199157698993  \n",
      "3  0.7465903641278138  \n",
      "4  0.8019540041753433  \n",
      "5  0.7987146962721801  \n",
      "6  0.7787152911241104  \n",
      "               precision    recall  f1-score   support\n",
      "\n",
      "           0       0.82      0.83      0.83        60\n",
      "           1       0.86      0.53      0.66        45\n",
      "           2       0.78      0.88      0.83       120\n",
      "           3       0.84      0.84      0.84        68\n",
      "\n",
      "    accuracy                           0.81       293\n",
      "   macro avg       0.82      0.77      0.79       293\n",
      "weighted avg       0.81      0.81      0.80       293\n",
      "\n"
     ]
    }
   ],
   "source": [
    "# XGBOOST\n",
    "xg_bge_classifier4, xg_bge_cv_scores4,xg_bge_cm4 = XGBoost(x_train_4_bge, y_train_4, 4)\n",
    "xg_bge_y_pred4,  xg_bge_class_report4            = prediction(xg_bge_classifier4, x_test_4_bge, y_test_4)\n",
    "\n",
    "xg_gte_classifier4, xg_gte_cv_scores4,xg_gte_cm4 = XGBoost(x_train_4_gte, y_train_4, 4)\n",
    "xg_gte_y_pred4, xg_gte_class_report4             = prediction(xg_gte_classifier4, x_test_4_gte, y_test_4)\n",
    "\n",
    "xg_uae_classifier4, xg_uae_cv_scores4,xg_uae_cm4 = XGBoost(x_train_4_uae,y_train_4,4)\n",
    "xg_uae_y_pred4, xg_uae_class_report4             = prediction(xg_uae_classifier4, x_test_4_uae, y_test_4)\n",
    "\n",
    "xg_mrl_classifier4, xg_mrl_cv_scores4,xg_mrl_cm4 = XGBoost(x_train_4_mrl,y_train_4,4)\n",
    "xg_mrl_y_pred4, xg_mrl_class_report4             = prediction(xg_mrl_classifier4, x_test_4_mrl, y_test_4)\n",
    "\n",
    "xg_ali_classifier4, xg_ali_cv_scores4,xg_ali_cm4 = XGBoost(x_train_4_ali,y_train_4,4)\n",
    "xg_ali_y_pred4, xg_ali_class_report4             = prediction(xg_ali_classifier4, x_test_4_ali, y_test_4)\n",
    "\n",
    "xg_mul_classifier4, xg_mul_cv_scores4,xg_mul_cm4 = XGBoost(x_train_4_mul,y_train_4,4)\n",
    "xg_mul_y_pred4, xg_mul_class_report4             = prediction(xg_mul_classifier4, x_test_4_mul, y_test_4)\n",
    "\n",
    "\n",
    "# Save Report\n",
    "xg_bge_result_4= save_results(y_test_4, xg_bge_y_pred4)\n",
    "xg_bge_result_4.to_csv('models_results/XG_bge_4classes.csv', index=False)\n",
    "xg_bge_cv_scores4.to_csv('cross_validation_results/XG_bge_4classes.csv', index=False)  #Cross Validation Result\n",
    "\n",
    "xg_gte_result_4 = save_results(y_test_4, xg_gte_y_pred4)\n",
    "xg_gte_result_4.to_csv('models_results/XG_gte_4classes.csv', index=False)\n",
    "xg_gte_cv_scores4.to_csv('cross_validation_results/XG_gte_4classes.csv', index=False)  #Cross Validation Result\n",
    "\n",
    "xg_uae_result_4 = save_results(y_test_4, xg_uae_y_pred4)\n",
    "xg_uae_result_4.to_csv('models_results/XG_uae_4classes.csv', index=False)\n",
    "xg_uae_cv_scores4.to_csv('cross_validation_results/XG_uae_4classes.csv', index=False)  #Cross Validation Result\n",
    "\n",
    "xg_mrl_result_4= save_results(y_test_4, xg_mrl_y_pred4)\n",
    "xg_mrl_result_4.to_csv('models_results/XG_mrl_4classes.csv', index=False)\n",
    "xg_mrl_cv_scores4.to_csv('cross_validation_results/XG_mrl_4classes.csv', index=False)  #Cross Validation Result\n",
    "\n",
    "xg_ali_result_4 = save_results(y_test_4, xg_ali_y_pred4)\n",
    "xg_ali_result_4.to_csv('models_results/XG_ali_4classes.csv', index=False)\n",
    "xg_ali_cv_scores4.to_csv('cross_validation_results/XG_ali_4classes.csv', index=False)  #Cross Validation Result\n",
    "\n",
    "xg_mul_result_4 = save_results(y_test_4, xg_mul_y_pred4)\n",
    "xg_mul_result_4.to_csv('models_results/XG_mul_4classes.csv', index=False)\n",
    "xg_mul_cv_scores4.to_csv('cross_validation_results/XG_mul_4classes.csv', index=False)  #Cross Validation Result\n",
    "\n",
    "\n",
    "# Evaluation Report\n",
    "print(f'XGBoost BGE: Cross Val {xg_bge_cv_scores4}\\n {xg_bge_class_report4}')\n",
    "print(f'XGBoost GTE: Cross Val {xg_gte_cv_scores4}\\n {xg_gte_class_report4}')"
   ]
  },
  {
   "cell_type": "code",
   "execution_count": 10,
   "metadata": {},
   "outputs": [],
   "source": [
    "# MUL Embedding Model\n",
    "x_train_4_mul, x_test_4_mul = MUL(x_train_4), MUL(x_test_4)\n",
    "RF_mul_classifier4, RF_mul_cv_scores4,RF_mul_cm4 = randomforest(x_train_4_mul,y_train_4)\n",
    "RF_mul_y_pred4, RF_mul_class_report4             = prediction(RF_mul_classifier4,x_test_4_mul, y_test_4)"
   ]
  },
  {
   "cell_type": "code",
   "execution_count": 12,
   "metadata": {},
   "outputs": [],
   "source": [
    "import pickle\n",
    "\n",
    "# When saving\n",
    "with open('random_forest_4classes.pkl', 'wb') as f:\n",
    "    pickle.dump(RF_mul_classifier4, f, protocol=4)"
   ]
  },
  {
   "cell_type": "markdown",
   "metadata": {},
   "source": [
    "# Two Class Classification"
   ]
  },
  {
   "cell_type": "markdown",
   "metadata": {},
   "source": [
    "##### Read dataset and Embed Text"
   ]
  },
  {
   "cell_type": "code",
   "execution_count": 11,
   "metadata": {},
   "outputs": [],
   "source": [
    "# Read dataset \n",
    "train_2class_path = \"datasets/af_ag_train_1463.csv\" \n",
    "test_2class_path  = \"datasets/af_ag_test_1463.csv\" \n",
    "\n",
    "x_train_2, x_test_2, y_train_2, y_test_2 = read_train_test_dataset(train_2class_path, test_2class_path)"
   ]
  },
  {
   "cell_type": "code",
   "execution_count": null,
   "metadata": {},
   "outputs": [],
   "source": [
    "# BGE Embedding Model\n",
    "x_train_2_bge, x_test_2_bge = BGE(x_train_2), BGE(x_test_2)\n",
    "\n",
    "# GTE Embedding Model\n",
    "x_train_2_gte, x_test_2_gte = GTE(x_train_2), GTE(x_test_2)\n",
    "\n",
    "# UAE Embedding Model\n",
    "x_train_2_uae, x_test_2_uae = UAE(x_train_2), UAE(x_test_2)\n",
    "\n",
    "# MRL Embedding Model\n",
    "x_train_2_mrl, x_test_2_mrl = MRL(x_train_2), MRL(x_test_2)\n",
    "\n",
    "# ALI Embedding Model\n",
    "x_train_2_ali, x_test_2_ali = ALI(x_train_2), ALI(x_test_2)\n",
    "\n",
    "# MUL Embedding Model\n",
    "x_train_2_mul, x_test_2_mul = MUL(x_train_2), MUL(x_test_2)"
   ]
  },
  {
   "cell_type": "markdown",
   "metadata": {},
   "source": [
    "##### Random Forest Implementation"
   ]
  },
  {
   "cell_type": "code",
   "execution_count": null,
   "metadata": {},
   "outputs": [
    {
     "name": "stdout",
     "output_type": "stream",
     "text": [
      "RF BGE: Cross Val                     0                   1                   2  \\\n",
      "0            Accuracy           Precision              Recall   \n",
      "1  0.7111111111111111  0.7169471153846154  0.6826923076923077   \n",
      "2  0.6888888888888889  0.7107142857142856  0.6492914979757085   \n",
      "3  0.7666666666666667  0.7804232804232805  0.7413967611336032   \n",
      "4  0.7303370786516854  0.7234848484848485  0.7146569646569647   \n",
      "5   0.797752808988764           0.8228125  0.7684511434511434   \n",
      "6  0.7389513108614232  0.7508764060014059  0.7112977349819454   \n",
      "\n",
      "                    3  \n",
      "0            F1-score  \n",
      "1  0.6848060344827586  \n",
      "2  0.6438665912945166  \n",
      "3  0.7471571906354515  \n",
      "4  0.7174603174603176  \n",
      "5  0.7772525027808675  \n",
      "6  0.7141085273307823  \n",
      "               precision    recall  f1-score   support\n",
      "\n",
      "           0       0.81      0.55      0.65        62\n",
      "           1       0.64      0.86      0.74        58\n",
      "\n",
      "    accuracy                           0.70       120\n",
      "   macro avg       0.73      0.71      0.69       120\n",
      "weighted avg       0.73      0.70      0.69       120\n",
      "\n",
      "RF GTE: Cross Val                     0                   1                   2  \\\n",
      "0            Accuracy           Precision              Recall   \n",
      "1                 0.8  0.8156682027649769  0.7773279352226721   \n",
      "2  0.7666666666666667  0.8004542504866969  0.7343117408906883   \n",
      "3  0.7888888888888889  0.7886762360446571  0.7747975708502024   \n",
      "4  0.7640449438202247  0.7609649122807017  0.7474012474012475   \n",
      "5  0.8202247191011236            0.850625  0.7915800415800416   \n",
      "6  0.7879650436953808  0.8032777203154066  0.7650837071889705   \n",
      "\n",
      "                    3  \n",
      "0            F1-score  \n",
      "1   0.784688995215311  \n",
      "2  0.7396335583413693  \n",
      "3  0.7790412197958392  \n",
      "4   0.751495811727164  \n",
      "5  0.8020022246941045  \n",
      "6  0.7713723619547576  \n",
      "               precision    recall  f1-score   support\n",
      "\n",
      "           0       0.84      0.61      0.71        62\n",
      "           1       0.68      0.88      0.77        58\n",
      "\n",
      "    accuracy                           0.74       120\n",
      "   macro avg       0.76      0.75      0.74       120\n",
      "weighted avg       0.76      0.74      0.74       120\n",
      "\n"
     ]
    }
   ],
   "source": [
    "# Random Forest\n",
    "RF_bge_classifier2, RF_bge_cv_scores2,RF_bge_cm2 = randomforest(x_train_2_bge,y_train_2)\n",
    "RF_bge_y_pred2, RF_bge_class_report2             = prediction(RF_bge_classifier2, x_test_2_bge,y_test_2)\n",
    "\n",
    "RF_gte_classifier2, RF_gte_cv_scores2,RF_gte_cm2 = randomforest(x_train_2_gte,y_train_2)\n",
    "RF_gte_y_pred2, RF_gte_class_report2             = prediction(RF_gte_classifier2,x_test_2_gte, y_test_2)\n",
    "\n",
    "RF_uae_classifier2, RF_uae_cv_scores2,RF_uae_cm2 = randomforest(x_train_2_uae,y_train_2)\n",
    "RF_uae_y_pred2, RF_uae_class_report2             = prediction(RF_uae_classifier2,x_test_2_uae, y_test_2)\n",
    "\n",
    "RF_mrl_classifier2, RF_mrl_cv_scores2,RF_mrl_cm2 = randomforest(x_train_2_mrl,y_train_2)\n",
    "RF_mrl_y_pred2, RF_mrl_class_report2             = prediction(RF_mrl_classifier2,x_test_2_mrl, y_test_2)\n",
    "\n",
    "RF_ali_classifier2, RF_ali_cv_scores2,RF_ali_cm2 = randomforest(x_train_2_ali,y_train_2)\n",
    "RF_ali_y_pred2, RF_ali_class_report2             = prediction(RF_ali_classifier2,x_test_2_ali, y_test_2)\n",
    "\n",
    "RF_mul_classifier2, RF_mul_cv_scores2,RF_mul_cm2 = randomforest(x_train_2_mul,y_train_2)\n",
    "RF_mul_y_pred2, RF_mul_class_report2             = prediction(RF_mul_classifier2,x_test_2_mul, y_test_2)\n",
    "\n",
    "\n",
    "# Save Report\n",
    "RF_bge_result_2= save_results(y_test_2,RF_bge_y_pred2)\n",
    "RF_bge_result_2.to_csv('models_results/RF_bge_2classes.csv', index=False)              #Prediction Result\n",
    "RF_bge_cv_scores2.to_csv('cross_validation_results/RF_bge_2classes.csv', index=False)  #Cross Validation Result\n",
    "\n",
    "RF_gte_result_2 = save_results(y_test_2,RF_gte_y_pred2)\n",
    "RF_gte_result_2.to_csv('models_results/RF_gte_2classes.csv', index=False)              #Prediction Result\n",
    "RF_gte_cv_scores2.to_csv('cross_validation_results/RF_gte_2classes.csv', index=False)  #Cross Validation Result\n",
    "\n",
    "RF_uae_result_2 = save_results(y_test_2,RF_uae_y_pred2)\n",
    "RF_uae_result_2.to_csv('models_results/RF_uae_2classes.csv', index=False)              #Prediction Result\n",
    "RF_uae_cv_scores2.to_csv('cross_validation_results/RF_uae_2classes.csv', index=False)  #Cross Validation Result\n",
    "\n",
    "RF_mrl_result_2 = save_results(y_test_2,RF_mrl_y_pred2)\n",
    "RF_mrl_result_2.to_csv('models_results/RF_mrl_2classes.csv', index=False)              #Prediction Result\n",
    "RF_mrl_cv_scores2.to_csv('cross_validation_results/RF_mrl_2classes.csv', index=False)  #Cross Validation Result\n",
    "\n",
    "RF_ali_result_2 = save_results(y_test_2,RF_ali_y_pred2)\n",
    "RF_ali_result_2.to_csv('models_results/RF_ali_2classes.csv', index=False)              #Prediction Result\n",
    "RF_ali_cv_scores2.to_csv('cross_validation_results/RF_ali_2classes.csv', index=False)  #Cross Validation Result\n",
    "\n",
    "RF_mul_result_2 = save_results(y_test_2,RF_mul_y_pred2)\n",
    "RF_mul_result_2.to_csv('models_results/RF_mul_2classes.csv', index=False)              #Prediction Result\n",
    "RF_mul_cv_scores2.to_csv('cross_validation_results/RF_mul_2classes.csv', index=False)  #Cross Validation Result           \n",
    "\n",
    "\n",
    "# Evaluation Report\n",
    "print(f'RF BGE: Cross Val {RF_bge_cv_scores2}\\n {RF_bge_class_report2}')\n",
    "print(f'RF GTE: Cross Val {RF_gte_cv_scores2}\\n {RF_gte_class_report2}')"
   ]
  },
  {
   "cell_type": "markdown",
   "metadata": {},
   "source": [
    "##### XGBOOST Implementation"
   ]
  },
  {
   "cell_type": "code",
   "execution_count": null,
   "metadata": {},
   "outputs": [
    {
     "name": "stdout",
     "output_type": "stream",
     "text": [
      "XGBoost BGE: Cross Val                     0                   1                   2  \\\n",
      "0            Accuracy           Precision              Recall   \n",
      "1  0.7666666666666667  0.7736009044657999  0.7449392712550607   \n",
      "2  0.6666666666666666  0.6628605769230769  0.6371457489878543   \n",
      "3  0.7888888888888889  0.7990390050876202  0.7677125506072875   \n",
      "4  0.7191011235955056  0.7127551020408163  0.7167359667359667   \n",
      "5   0.651685393258427  0.6389830508474577  0.6278586278586279   \n",
      "6   0.718601747815231  0.7174477278729542  0.6988784330889594   \n",
      "\n",
      "                    3  \n",
      "0            F1-score  \n",
      "1  0.7503632281072514  \n",
      "2  0.6363146551724138  \n",
      "3  0.7741381587637035  \n",
      "4  0.7138999614247139  \n",
      "5  0.6290170767782708  \n",
      "6  0.7007466160492706  \n",
      "               precision    recall  f1-score   support\n",
      "\n",
      "           0       0.76      0.66      0.71        62\n",
      "           1       0.68      0.78      0.73        58\n",
      "\n",
      "    accuracy                           0.72       120\n",
      "   macro avg       0.72      0.72      0.72       120\n",
      "weighted avg       0.72      0.72      0.72       120\n",
      "\n",
      "XGBoost GTE: Cross Val                     0                   1                   2  \\\n",
      "0            Accuracy           Precision              Recall   \n",
      "1  0.7777777777777778  0.7752100840336134  0.7651821862348178   \n",
      "2  0.7666666666666667  0.7684527063969382  0.7484817813765182   \n",
      "3  0.8444444444444444   0.840587044534413   0.840587044534413   \n",
      "4  0.7752808988764045  0.7762626262626262  0.7843035343035343   \n",
      "5  0.8089887640449438  0.8031475748194015  0.8053534303534303   \n",
      "6  0.7946317103620475  0.7927320072093984  0.7887815953605427   \n",
      "\n",
      "                    3  \n",
      "0            F1-score  \n",
      "1  0.7685185185185185  \n",
      "2  0.7532314923619272  \n",
      "3  0.8405870445344129  \n",
      "4  0.7738821138211383  \n",
      "5  0.8041423948220066  \n",
      "6  0.7880723128116006  \n",
      "               precision    recall  f1-score   support\n",
      "\n",
      "           0       0.80      0.60      0.69        62\n",
      "           1       0.66      0.84      0.74        58\n",
      "\n",
      "    accuracy                           0.72       120\n",
      "   macro avg       0.73      0.72      0.71       120\n",
      "weighted avg       0.74      0.72      0.71       120\n",
      "\n"
     ]
    }
   ],
   "source": [
    "# XGBOOST\n",
    "xg_bge_classifier2, xg_bge_cv_scores2,xg_bge_cm2 = XGBoost(x_train_2_bge,y_train_2,2)\n",
    "xg_bge_y_pred2, xg_bge_class_report2             = prediction(xg_bge_classifier2, x_test_2_bge, y_test_2)\n",
    "\n",
    "xg_gte_classifier2, xg_gte_cv_scores2,xg_gte_cm2 = XGBoost(x_train_2_gte,y_train_2,2)\n",
    "xg_gte_y_pred2, xg_gte_class_report2             = prediction(xg_gte_classifier2,x_test_2_gte, y_test_2)\n",
    "\n",
    "xg_uae_classifier2, xg_uae_cv_scores2,xg_uae_cm2 = XGBoost(x_train_2_uae,y_train_2,2)\n",
    "xg_uae_y_pred2, xg_uae_class_report2             = prediction(xg_uae_classifier2, x_test_2_uae, y_test_2)\n",
    "\n",
    "xg_mrl_classifier2, xg_mrl_cv_scores2,xg_mrl_cm2 = XGBoost(x_train_2_mrl,y_train_2,2)\n",
    "xg_mrl_y_pred2, xg_mrl_class_report2             = prediction(xg_mrl_classifier2, x_test_2_mrl, y_test_2)\n",
    "\n",
    "xg_ali_classifier2, xg_ali_cv_scores2,xg_ali_cm2 = XGBoost(x_train_2_ali,y_train_2,2)\n",
    "xg_ali_y_pred2, xg_ali_class_report2             = prediction(xg_ali_classifier2, x_test_2_ali, y_test_2)\n",
    "\n",
    "xg_mul_classifier2, xg_mul_cv_scores2,xg_mul_cm2 = XGBoost(x_train_2_mul,y_train_2,2)\n",
    "xg_mul_y_pred2, xg_mul_class_report2             = prediction(xg_mul_classifier2, x_test_2_mul, y_test_2)\n",
    "\n",
    "\n",
    "# Save Report\n",
    "xg_bge_result_2= save_results(y_test_2, xg_bge_y_pred2)\n",
    "xg_bge_result_2.to_csv('models_results/XG_bge_2classes.csv', index=False)\n",
    "xg_bge_cv_scores2.to_csv('cross_validation_results/XG_bge_2classes.csv', index=False)  #Cross Validation Result\n",
    "\n",
    "xg_gte_result_2 = save_results(y_test_2, xg_gte_y_pred2)\n",
    "xg_gte_result_2.to_csv('models_results/XG_gte_2classes.csv', index=False)\n",
    "xg_gte_cv_scores2.to_csv('cross_validation_results/XG_gte_2classes.csv', index=False)  #Cross Validation Result\n",
    "\n",
    "xg_uae_result_2 = save_results(y_test_2, xg_uae_y_pred2)\n",
    "xg_uae_result_2.to_csv('models_results/XG_uae_2classes.csv', index=False)\n",
    "xg_uae_cv_scores2.to_csv('cross_validation_results/XG_uae_2classes.csv', index=False)  #Cross Validation Result\n",
    "\n",
    "xg_mrl_result_2= save_results(y_test_2, xg_mrl_y_pred2)\n",
    "xg_mrl_result_2.to_csv('models_results/XG_mrl_2classes.csv', index=False)\n",
    "xg_mrl_cv_scores2.to_csv('cross_validation_results/XG_mrl_2classes.csv', index=False)  #Cross Validation Result\n",
    "\n",
    "xg_ali_result_2 = save_results(y_test_2, xg_ali_y_pred2)\n",
    "xg_ali_result_2.to_csv('models_results/XG_ali_2classes.csv', index=False)\n",
    "xg_ali_cv_scores2.to_csv('cross_validation_results/XG_ali_2classes.csv', index=False)  #Cross Validation Result\n",
    "\n",
    "xg_mul_result_2 = save_results(y_test_2, xg_mul_y_pred2)\n",
    "xg_mul_result_2.to_csv('models_results/XG_mul_2classes.csv', index=False)\n",
    "xg_mul_cv_scores2.to_csv('cross_validation_results/XG_mul_2classes.csv', index=False)  #Cross Validation Result\n",
    "\n",
    "\n",
    "# Evaluation Report\n",
    "print(f'XGBoost BGE: Cross Val {xg_bge_cv_scores2}\\n {xg_bge_class_report2}')\n",
    "print(f'XGBoost GTE: Cross Val {xg_gte_cv_scores2}\\n {xg_gte_class_report2}')"
   ]
  },
  {
   "cell_type": "code",
   "execution_count": 13,
   "metadata": {},
   "outputs": [],
   "source": [
    "# MUL Embedding Model\n",
    "x_train_2_mul, x_test_2_mul = MUL(x_train_2), MUL(x_test_2)\n",
    "RF_mul_classifier2, RF_mul_cv_scores2,RF_mul_cm2 = randomforest(x_train_2_mul,y_train_2)\n",
    "RF_mul_y_pred2, RF_mul_class_report2             = prediction(RF_mul_classifier2,x_test_2_mul, y_test_2)\n"
   ]
  },
  {
   "cell_type": "code",
   "execution_count": 14,
   "metadata": {},
   "outputs": [],
   "source": [
    "import pickle\n",
    "\n",
    "# When saving\n",
    "with open('random_forest_2classes.pkl', 'wb') as f:\n",
    "    pickle.dump(RF_mul_classifier2, f, protocol=4)\n",
    "\n",
    "# When loading in your Flask app\n",
    "#with open(model_path, 'rb') as f:\n",
    "#    model_data = pickle.load(f)"
   ]
  },
  {
   "cell_type": "markdown",
   "metadata": {},
   "source": [
    "# Two Model Pipeline"
   ]
  },
  {
   "cell_type": "code",
   "execution_count": 15,
   "metadata": {},
   "outputs": [],
   "source": [
    "def two_model_pipeline(model4, model2, x_test4, x_test2, y_test_4):\n",
    "    model4_pred, model4_pred_report  = prediction(model4, x_test4, y_test_4)\n",
    "    model4_pred_array = np.array(model4_pred)\n",
    "\n",
    "    # Identify instances classified as affiliative/aggressive\n",
    "    aff_agg_mask = (model4_pred_array == 2)\n",
    "\n",
    "    # Apply second model only to these instances\n",
    "    x_test_filtered = [x for x, mask in zip(x_test2, aff_agg_mask) if mask]\n",
    "    model2_pred = model2.predict(x_test_filtered)\n",
    "\n",
    "    # Combine results\n",
    "    final_pred = [4 if pred == 3 else pred for pred in model4_pred]\n",
    "    model2_pred = [2 if p == 0 else 3 for p in model2_pred]\n",
    "\n",
    "    # Update final_pred with model2_pred results\n",
    "    pred2_index = 0\n",
    "    for i, mask in enumerate(aff_agg_mask):\n",
    "        if mask:\n",
    "            final_pred[i] = model2_pred[pred2_index]\n",
    "            pred2_index += 1\n",
    "\n",
    "    return final_pred\n",
    "\n"
   ]
  },
  {
   "cell_type": "code",
   "execution_count": 16,
   "metadata": {},
   "outputs": [],
   "source": [
    "two_model_predict = two_model_pipeline(RF_mul_classifier4, RF_mul_classifier2, x_test_4_mul, x_test_4_mul, y_test_4)"
   ]
  },
  {
   "cell_type": "code",
   "execution_count": 17,
   "metadata": {},
   "outputs": [
    {
     "name": "stdout",
     "output_type": "stream",
     "text": [
      "              precision  recall  f1-score  support\n",
      "0                 0.942   0.817     0.875     60.0\n",
      "1                 0.867   0.578     0.693     45.0\n",
      "2                 0.623   0.613     0.618     62.0\n",
      "3                 0.551   0.845     0.667     58.0\n",
      "4                 0.951   0.853     0.899     68.0\n",
      "accuracy            NaN     NaN     0.751      NaN\n",
      "macro avg         0.787   0.741     0.750    293.0\n",
      "weighted avg      0.788   0.751     0.757    293.0\n"
     ]
    }
   ],
   "source": [
    "two_model_results = save_results(y_test_5,two_model_predict)\n",
    "print(two_model_results)\n",
    "\n",
    "#two_model_results.to_csv(\"two_model_pipeline_results/XG_mul_XG_mul.csv\", index=True)"
   ]
  },
  {
   "cell_type": "markdown",
   "metadata": {},
   "source": [
    "# Individual Joke Prediction"
   ]
  },
  {
   "cell_type": "code",
   "execution_count": null,
   "metadata": {},
   "outputs": [],
   "source": [
    "def single_predict(example, embed_model, class_model, num_label):\n",
    "    # Embedding \n",
    "    embedding = np.empty(0)\n",
    "    if embed_model == \"bge\":\n",
    "        embedding = BGE(example)\n",
    "    elif embed_model == \"gte\":\n",
    "        embedding = GTE(example)\n",
    "    elif embed_model == \"uae\":\n",
    "        embedding = UAE(example)\n",
    "    elif embed_model == \"mrl\":\n",
    "        embedding = MRL(example)\n",
    "    elif embed_model == \"ali\":\n",
    "        embedding = ALI(example)\n",
    "    else:\n",
    "        embedding = MUL(example)\n",
    "    \n",
    "    embedding = np.expand_dims(embedding, axis=0)\n",
    "\n",
    "    # Classifiers\n",
    "    if num_label == 5:\n",
    "        if class_model == \"rf\" and embed_model == \"bge\":\n",
    "            pred = RF_bge_classifier5.predict(embedding)\n",
    "        elif class_model == \"rf\" and embed_model == \"gte\":\n",
    "            pred = RF_gteclassifier5.predict(embedding)\n",
    "        elif class_model == \"xgb\" and embed_model == \"gte\":\n",
    "            pred = xg_gte_classifier5.predict(embedding)\n",
    "        elif class_model == \"xgb\" and embed_model == \"bge\":\n",
    "            pred = xg_bge_classifier5.predict(embedding)\n",
    "        elif class_model == \"rf\" and embed_model == \"mul\":\n",
    "            pred = RF_mul_classifier5.predict(embedding)\n",
    "        elif class_model == \"xgb\" and embed_model == \"mul\":\n",
    "            pred = xg_mul_classifier5.predict(embedding)\n",
    "    elif num_label == 4:\n",
    "        if class_model == \"rf\"and embed_model == \"bge\":\n",
    "            pred = RF_bge_classifier4.predict(embedding)\n",
    "        elif class_model == \"rf\" and embed_model == \"gte\":\n",
    "            pred = RF_gte_classifier4.predict(embedding)\n",
    "        elif class_model == \"xgb\" and embed_model == \"bge\":\n",
    "            pred = xg_bge_classifier4.predict(embedding)\n",
    "        elif class_model == \"xgb\" and embed_model == \"gte\":\n",
    "            pred = xg_gte_classifier4.predict(embedding)\n",
    "        elif class_model == \"rf\" and embed_model == \"mul\":\n",
    "            pred = RF_mul_classifier4.predict(embedding)\n",
    "        elif class_model == \"xgb\" and embed_model == \"mul\":\n",
    "            pred = xg_mul_classifier4.predict(embedding)\n",
    "    elif num_label == 2:\n",
    "        if class_model == \"rf\"and embed_model == \"bge\":\n",
    "            pred = RF_bge_classifier2.predict(embedding)\n",
    "        elif class_model == \"rf\" and embed_model == \"gte\":\n",
    "            pred = RF_gte_classifier2.predict(embedding)\n",
    "        elif class_model == \"xgb\" and embed_model == \"bge\":\n",
    "            pred = xg_bge_classifier2.predict(embedding)\n",
    "        elif class_model == \"xgb\" and embed_model == \"gte\":\n",
    "            pred = xg_gte_classifier2.predict(embedding)\n",
    "        elif class_model == \"rf\" and embed_model == \"mrl\":\n",
    "            pred = RF_mrl_classifier2.predict(embedding)\n",
    "        elif class_model == \"xgb\" and embed_model == \"mrl\":\n",
    "            pred = xg_mrl_classifier2.predict(embedding)\n",
    "    \n",
    "    return pred\n"
   ]
  },
  {
   "cell_type": "code",
   "execution_count": null,
   "metadata": {},
   "outputs": [
    {
     "name": "stdout",
     "output_type": "stream",
     "text": [
      "User Input: \"\n",
      "The owner of X, formerly Twitter, posted the remarks on the platform in response to a video showing people aiming fireworks at police.\n",
      "The prime minister's spokesperson said there was \"no justification\" for Mr Musk's comments, adding there was more that social media companies \"can and should be doing\".\n",
      "Justice Minister Heidi Alexander also criticised the tech billionaire for his \"totally unjustifiable\" and \"pretty deplorable\" comments.\n",
      "\n",
      " 5 class Model prediction : Neutral\n",
      " 4 class Model prediction : Neutral\n",
      " 2 class Model prediction : Not Affiliative or Aggressive\n"
     ]
    }
   ],
   "source": [
    "mapping5 = {\n",
    "    0:\"Self-enhancing\",\n",
    "    1:\"Self-deprecating\",\n",
    "    2:\"Affiliative\",\n",
    "    3:\"Aggressive\",\n",
    "    4:\"Neutral\"\n",
    "}\n",
    "mapping4 = {\n",
    "    0:\"Self-enhancing\",\n",
    "    1:\"Self-deprecating\",\n",
    "    2:\"Affiliative/Aggressive\",\n",
    "    3:\"Neutral\",\n",
    "}\n",
    "mapping2 = {\n",
    "    0:\"Affiliative\",\n",
    "    1:\"Aggressive\",\n",
    "}\n",
    "\n",
    "user_input = \"\"\"\n",
    "The owner of X, formerly Twitter, posted the remarks on the platform in response to a video showing people aiming fireworks at police.\n",
    "The prime minister's spokesperson said there was \"no justification\" for Mr Musk's comments, adding there was more that social media companies \"can and should be doing\".\n",
    "Justice Minister Heidi Alexander also criticised the tech billionaire for his \"totally unjustifiable\" and \"pretty deplorable\" comments.\n",
    "\"\"\"\n",
    "\n",
    "predict_5 = single_predict(user_input, \"mul\", \"rf\", 5)\n",
    "predict_4 = single_predict(user_input, \"mul\", \"xgb\", 4)\n",
    "\n",
    "predict_2 = \"None\"\n",
    "if int(predict_4) == 2:\n",
    "    predict_2 = single_predict(user_input, \"mrl\", \"xgb\", 2) #2 class model\n",
    "\n",
    "label5 = predict_5.item()    # Convert array to single value \n",
    "label4 = predict_4.item()    # Convert array to single value \n",
    "if predict_2 != \"None\":\n",
    "    label2 = predict_2.item()    # Convert array to single value \n",
    "    label2 = mapping2[label2]\n",
    "else:\n",
    "    label2 = \"Not Affiliative or Aggressive\"\n",
    "\n",
    "\n",
    "# Print the predicted label\n",
    "print(f'User Input: \"{user_input}\\n 5 class Model prediction : {mapping5[label5]}\\n 4 class Model prediction : {mapping4[label4]}')\n",
    "print(f' 2 class Model prediction : {label2}')\n"
   ]
  }
 ],
 "metadata": {
  "kernelspec": {
   "display_name": "base",
   "language": "python",
   "name": "python3"
  },
  "language_info": {
   "codemirror_mode": {
    "name": "ipython",
    "version": 3
   },
   "file_extension": ".py",
   "mimetype": "text/x-python",
   "name": "python",
   "nbconvert_exporter": "python",
   "pygments_lexer": "ipython3",
   "version": "3.11.7"
  }
 },
 "nbformat": 4,
 "nbformat_minor": 2
}
