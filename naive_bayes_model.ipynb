{
 "cells": [
  {
   "cell_type": "markdown",
   "metadata": {},
   "source": [
    "# Import Libraries"
   ]
  },
  {
   "cell_type": "code",
   "execution_count": 10,
   "metadata": {},
   "outputs": [],
   "source": [
    "import re\n",
    "import numpy as np\n",
    "import pandas as pd\n",
    "from sklearn.model_selection import train_test_split, cross_val_score,KFold\n",
    "from data_preprocessing import lemmatize_text_with_pos, tokens,lemmatize_spacy\n",
    "from sklearn.metrics import classification_report"
   ]
  },
  {
   "cell_type": "markdown",
   "metadata": {},
   "source": [
    "# Functions/Methods"
   ]
  },
  {
   "cell_type": "markdown",
   "metadata": {},
   "source": [
    "#### Dataset Function"
   ]
  },
  {
   "cell_type": "code",
   "execution_count": 11,
   "metadata": {},
   "outputs": [],
   "source": [
    "# Read a single Dataset File\n",
    "def read_dataset(file_path):\n",
    "    if file_path.lower().endswith('.csv'):\n",
    "        dataset = pd.read_csv(file_path)\n",
    "    elif file_path.lower().endswith('.xlsx'):\n",
    "        dataset = pd.read_excel(file_path)\n",
    "    else:\n",
    "        raise ValueError(\"Unsupported file format. Please provide a .csv or .xlsx file.\")\n",
    "    \n",
    "    dataset   = np.array(dataset)\n",
    "    data_train, data_test     = train_test_split(dataset, test_size=0.2, random_state=100)\n",
    "\n",
    "    x_train, y_train   = (data_train[:,:-1]), (data_train[:,-1]).astype(\"int32\")\n",
    "    x_test, y_test     = (data_test[:,:-1]), (data_test[:,-1]).astype(\"int32\")           \n",
    "    x_train, x_test    = x_train.squeeze(), x_test.squeeze()\n",
    "\n",
    "    return x_train, x_test, y_train, y_test\n",
    "\n",
    "\n",
    "# If you have Train and Test Datasets separate\n",
    "def read_train_test_dataset(train_data, test_data):\n",
    "    if train_data.lower().endswith('.csv') and test_data.lower().endswith('.csv'):\n",
    "        train_data = pd.read_csv(train_data)\n",
    "        test_data = pd.read_csv(test_data)\n",
    "    elif train_data.lower().endswith('.xlsx') and test_data.lower().endswith('.xlsx'):\n",
    "        train_data = pd.read_excel(train_data)\n",
    "        test_data = pd.read_excel(test_data)\n",
    "    else:\n",
    "        raise ValueError(\"Unsupported file format. Please provide a .csv or .xlsx file.\")\n",
    "    \n",
    "    train_data, test_data   = np.array(train_data), np.array(test_data)\n",
    "\n",
    "    x_train, y_train   = (train_data[:,:-1]), (train_data[:,-1]).astype(\"int32\")\n",
    "    x_test, y_test     = (test_data[:,:-1]), (test_data[:,-1]).astype(\"int32\")           \n",
    "    x_train, x_test    = x_train.squeeze(), x_test.squeeze()\n",
    "\n",
    "    return x_train, x_test, y_train, y_test"
   ]
  },
  {
   "cell_type": "markdown",
   "metadata": {},
   "source": [
    "#### Vocabulary Function"
   ]
  },
  {
   "cell_type": "code",
   "execution_count": 12,
   "metadata": {},
   "outputs": [],
   "source": [
    "def vocab(x):\n",
    "    all_word = set()\n",
    "    for i in x:\n",
    "        all_word.update(tokens(i))\n",
    "    return all_word"
   ]
  },
  {
   "cell_type": "markdown",
   "metadata": {},
   "source": [
    "#### Training Function"
   ]
  },
  {
   "cell_type": "code",
   "execution_count": 13,
   "metadata": {},
   "outputs": [],
   "source": [
    "def naive_bayes_multi(x, y, smoothing=1):\n",
    "    classes = np.unique(y)\n",
    "    vocabulary = vocab(x)\n",
    "    N_doc = x.shape[0]\n",
    "\n",
    "    log_probs = {}\n",
    "    ex_dics = {}\n",
    "    prob_words = {}\n",
    "\n",
    "    for class_label in classes:\n",
    "        N_cat = sum(y == class_label)\n",
    "        examples = \" \".join(x[y == class_label])\n",
    "\n",
    "        log_prob = np.log(N_cat / N_doc)\n",
    "        log_probs[class_label] = log_prob\n",
    "\n",
    "        ex_dic = {}\n",
    "        prob_word = {}\n",
    "\n",
    "        for word in vocabulary:\n",
    "            escaped_word = re.escape(word)\n",
    "\n",
    "            word_count = len(re.findall(escaped_word, examples))\n",
    "            ex_dic[word] = word_count\n",
    "\n",
    "            prob_word[word] = np.round(np.log((word_count + smoothing) / (len(tokens(examples)) + len(vocabulary))), 5)\n",
    "\n",
    "        ex_dics[class_label] = ex_dic\n",
    "        prob_words[class_label] = prob_word\n",
    "\n",
    "    # Sort classes to match clf.classes_\n",
    "    sorted_classes = sorted(classes)\n",
    "\n",
    "    return log_probs, ex_dics, prob_words, sorted_classes\n"
   ]
  },
  {
   "cell_type": "markdown",
   "metadata": {},
   "source": [
    "#### Prediction Function"
   ]
  },
  {
   "cell_type": "code",
   "execution_count": 14,
   "metadata": {},
   "outputs": [],
   "source": [
    "def predict_naive_bayes(examples, log_probs, prob_words):\n",
    "    predictions = []\n",
    "\n",
    "    for example in examples:\n",
    "        # Tokenize the example\n",
    "        example_tokens = tokens(example)\n",
    "\n",
    "        # Calculate the log likelihoods for each class\n",
    "        class_likelihoods = {}\n",
    "        for class_label, log_prob in log_probs.items():\n",
    "            class_likelihood = log_prob + sum(prob_words[class_label].get(word, 0) for word in example_tokens)\n",
    "            class_likelihoods[class_label] = class_likelihood\n",
    "\n",
    "        # Make a prediction based on the class with the highest likelihood\n",
    "        prediction = max(class_likelihoods, key=class_likelihoods.get)\n",
    "        predictions.append(prediction)\n",
    "\n",
    "    return predictions"
   ]
  },
  {
   "cell_type": "markdown",
   "metadata": {},
   "source": [
    "#### Cross Validation"
   ]
  },
  {
   "cell_type": "code",
   "execution_count": 15,
   "metadata": {},
   "outputs": [],
   "source": [
    "def cross_validation(model_name, x_data, y_data, n_splits=5):\n",
    "    kf = KFold(n_splits=n_splits)\n",
    "\n",
    "    fold = 0\n",
    "    all_predictions = []\n",
    "    all_labels = []\n",
    "    all_reports = []\n",
    "\n",
    "    # Splitting the Data\n",
    "    for train_index, test_index in kf.split(x_data):\n",
    "        fold += 1\n",
    "        print(f\"Training fold {fold}/{n_splits}\")\n",
    "\n",
    "        x_train, x_test = x_data[train_index], x_data[test_index]\n",
    "        y_train, y_test = y_data[train_index], y_data[test_index]\n",
    "\n",
    "        # Training the Model\n",
    "        output_dir = f\"{model_name}_fold_{fold}\"\n",
    "        log_probs, ex_dics, prob_words, sorted_classes = naive_bayes_multi(x_train, y_train)\n",
    "\n",
    "        #Evaluate the Model\n",
    "        predicted_labels = predict_naive_bayes(x_test, log_probs, prob_words)\n",
    "        report = classification_report(y_test,predicted_labels)\n",
    "        print(report)\n",
    "\n",
    "        all_predictions.extend(predicted_labels)\n",
    "        all_labels.extend(y_test)\n",
    "        all_reports.append(report)\n",
    "    return output_dir, all_predictions, all_labels, all_reports"
   ]
  },
  {
   "cell_type": "markdown",
   "metadata": {},
   "source": [
    "#### Save Reports Function"
   ]
  },
  {
   "cell_type": "code",
   "execution_count": 16,
   "metadata": {},
   "outputs": [],
   "source": [
    "def save_results(true_label, predicted):\n",
    "    report_dict = classification_report(true_label,predicted,output_dict=True)\n",
    "\n",
    "    # Save Result Report\n",
    "    save_report = pd.DataFrame(report_dict).transpose()  # Convert the report dictionary to a DataFrame\n",
    "    save_report = save_report.round(3)                   # Round the values to a specific number of decimal places\n",
    "    save_report = save_report.astype({'support': int})   # Convert the 'support' column to integers\n",
    "    save_report.loc['accuracy', ['precision', 'recall', 'support']] = [None, None, None] # Set the accuracy row to None\n",
    "\n",
    "    return save_report"
   ]
  },
  {
   "cell_type": "markdown",
   "metadata": {},
   "source": [
    "#### Two Model Pipeline"
   ]
  },
  {
   "cell_type": "code",
   "execution_count": 17,
   "metadata": {},
   "outputs": [],
   "source": [
    "def two_model_pipeline(x_test, log_prob_4class, log_prob_2class, prob_w4, prob_w2):\n",
    "    #first model predict\n",
    "    pred1 = predict_naive_bayes(x_test, log_prob_4class, prob_w4)\n",
    "    pred1_array = np.array(pred1)\n",
    "\n",
    "    # Identify instances classified as affiliative/aggressive\n",
    "    aff_agg_mask = (pred1_array == 2)\n",
    "    # Apply second model only to these instances\n",
    "    x_test_filtered = [x for x, mask in zip(x_test, aff_agg_mask) if mask]\n",
    "    print(\"Length of filtered x_test:\", len(x_test_filtered))\n",
    "\n",
    "    pred2 = predict_naive_bayes(x_test_filtered, log_prob_2class, prob_w2)\n",
    "\n",
    "    # Combine results\n",
    "    final_pred = [4 if pred == 3 else pred for pred in pred1]\n",
    "    pred2 = [2 if p == 0 else 3 for p in pred2]\n",
    "    \n",
    "    # Update final_pred with pred2 results\n",
    "    pred2_index = 0\n",
    "    for i, mask in enumerate(aff_agg_mask):\n",
    "        if mask:\n",
    "            final_pred[i] = pred2[pred2_index]\n",
    "            pred2_index += 1\n",
    "\n",
    "    return final_pred, pred2\n"
   ]
  },
  {
   "cell_type": "markdown",
   "metadata": {},
   "source": [
    "# Five Class Classification"
   ]
  },
  {
   "cell_type": "code",
   "execution_count": 18,
   "metadata": {},
   "outputs": [
    {
     "name": "stdout",
     "output_type": "stream",
     "text": [
      "Training fold 1/5\n",
      "              precision    recall  f1-score   support\n",
      "\n",
      "           0       0.77      0.66      0.71        56\n",
      "           1       0.42      0.68      0.52        34\n",
      "           2       0.45      0.32      0.37        41\n",
      "           3       0.51      0.70      0.59        57\n",
      "           4       1.00      0.50      0.67        46\n",
      "\n",
      "    accuracy                           0.58       234\n",
      "   macro avg       0.63      0.57      0.57       234\n",
      "weighted avg       0.64      0.58      0.58       234\n",
      "\n",
      "Training fold 2/5\n",
      "              precision    recall  f1-score   support\n",
      "\n",
      "           0       0.77      0.76      0.77        54\n",
      "           1       0.62      0.79      0.69        43\n",
      "           2       0.56      0.26      0.36        34\n",
      "           3       0.45      0.76      0.57        45\n",
      "           4       1.00      0.60      0.75        58\n",
      "\n",
      "    accuracy                           0.65       234\n",
      "   macro avg       0.68      0.63      0.63       234\n",
      "weighted avg       0.71      0.65      0.65       234\n",
      "\n",
      "Training fold 3/5\n",
      "              precision    recall  f1-score   support\n",
      "\n",
      "           0       0.62      0.64      0.63        39\n",
      "           1       0.52      0.77      0.62        43\n",
      "           2       0.59      0.34      0.43        38\n",
      "           3       0.52      0.67      0.59        58\n",
      "           4       1.00      0.59      0.74        56\n",
      "\n",
      "    accuracy                           0.61       234\n",
      "   macro avg       0.65      0.60      0.60       234\n",
      "weighted avg       0.66      0.61      0.61       234\n",
      "\n",
      "Training fold 4/5\n",
      "              precision    recall  f1-score   support\n",
      "\n",
      "           0       0.62      0.71      0.66        45\n",
      "           1       0.73      0.62      0.67        56\n",
      "           2       0.73      0.42      0.53        38\n",
      "           3       0.42      0.80      0.55        41\n",
      "           4       0.97      0.61      0.75        54\n",
      "\n",
      "    accuracy                           0.64       234\n",
      "   macro avg       0.69      0.63      0.63       234\n",
      "weighted avg       0.71      0.64      0.64       234\n",
      "\n",
      "Training fold 5/5\n",
      "              precision    recall  f1-score   support\n",
      "\n",
      "           0       0.75      0.68      0.71        44\n",
      "           1       0.55      0.82      0.66        44\n",
      "           2       0.39      0.32      0.35        37\n",
      "           3       0.64      0.71      0.67        59\n",
      "           4       0.94      0.60      0.73        50\n",
      "\n",
      "    accuracy                           0.64       234\n",
      "   macro avg       0.65      0.63      0.63       234\n",
      "weighted avg       0.67      0.64      0.64       234\n",
      "\n",
      "              precision    recall  f1-score   support\n",
      "\n",
      "           0       0.71      0.69      0.70       238\n",
      "           1       0.56      0.73      0.64       220\n",
      "           2       0.53      0.34      0.41       188\n",
      "           3       0.50      0.72      0.59       260\n",
      "           4       0.98      0.58      0.73       264\n",
      "\n",
      "    accuracy                           0.62      1170\n",
      "   macro avg       0.66      0.61      0.61      1170\n",
      "weighted avg       0.67      0.62      0.62      1170\n",
      "\n"
     ]
    }
   ],
   "source": [
    "# Read dataset \n",
    "humor_5class_path = \"datasets/Humour_style.xlsx\" \n",
    "x_train_5, x_test_5, y_train_5, y_test_5 = read_dataset(humor_5class_path)\n",
    "\n",
    "# Lemmmatize (Spacy)\n",
    "x_train_5 = [' '.join(lemmatize_spacy(example)) for example in x_train_5]\n",
    "x_test_5  = [' '.join(lemmatize_spacy(example)) for example in x_test_5]\n",
    "\n",
    "# Convert to numpy array\n",
    "x_train_5, x_test_5 = np.array(x_train_5), np.array(x_test_5)\n",
    "\n",
    "# Cross validation\n",
    "output_dir5, all_predictions5, all_labels5, all_reports5 = cross_validation(\"5_Classes\",x_train_5,y_train_5)\n",
    "aggregated_reports5 = classification_report(all_labels5,all_predictions5)\n",
    "print(aggregated_reports5)\n",
    "\n",
    "# Save Aggregated Cross Validation Results\n",
    "cross_v_5= save_results(all_labels5,all_predictions5)\n",
    "cross_v_5.to_csv('cross_validation_results/Naive_Bayes_5classes.csv', index=False)"
   ]
  },
  {
   "cell_type": "code",
   "execution_count": 19,
   "metadata": {},
   "outputs": [
    {
     "name": "stdout",
     "output_type": "stream",
     "text": [
      "              precision    recall  f1-score   support\n",
      "\n",
      "           0       0.71      0.69      0.70       238\n",
      "           1       0.56      0.73      0.64       220\n",
      "           2       0.53      0.34      0.41       188\n",
      "           3       0.50      0.72      0.59       260\n",
      "           4       0.98      0.58      0.73       264\n",
      "\n",
      "    accuracy                           0.62      1170\n",
      "   macro avg       0.66      0.61      0.61      1170\n",
      "weighted avg       0.67      0.62      0.62      1170\n",
      "\n"
     ]
    }
   ],
   "source": [
    "print(aggregated_reports5)"
   ]
  },
  {
   "cell_type": "code",
   "execution_count": 20,
   "metadata": {},
   "outputs": [
    {
     "name": "stdout",
     "output_type": "stream",
     "text": [
      "              precision    recall  f1-score   support\n",
      "\n",
      "           0       0.62      0.62      0.62        60\n",
      "           1       0.59      0.76      0.66        45\n",
      "           2       0.54      0.31      0.39        62\n",
      "           3       0.46      0.72      0.56        58\n",
      "           4       1.00      0.72      0.84        68\n",
      "\n",
      "    accuracy                           0.62       293\n",
      "   macro avg       0.64      0.62      0.61       293\n",
      "weighted avg       0.65      0.62      0.62       293\n",
      "\n"
     ]
    }
   ],
   "source": [
    "# Train Full Naive Bayes Model\n",
    "log_probs_5, ex_dics_5, prob_words_5, classes = naive_bayes_multi(x_train_5,y_train_5)\n",
    "\n",
    "# Test/Predict using Naive Bayes Model\n",
    "predicted_labels_5 = predict_naive_bayes(x_test_5, log_probs_5, prob_words_5)\n",
    "\n",
    "# Save Report\n",
    "result_5= save_results(y_test_5,predicted_labels_5)\n",
    "result_5.to_csv('models_results/Naive_Bayes_5classes.csv', index=False)\n",
    "\n",
    "# Evaluation Report\n",
    "print(classification_report(y_test_5,predicted_labels_5))"
   ]
  },
  {
   "cell_type": "markdown",
   "metadata": {},
   "source": [
    "## Confusion Matrix"
   ]
  },
  {
   "cell_type": "code",
   "execution_count": 21,
   "metadata": {},
   "outputs": [
    {
     "data": {
      "image/png": "[encoded data removed]",
      "text/plain": [
       "<Figure size 640x480 with 2 Axes>"
      ]
     },
     "metadata": {},
     "output_type": "display_data"
    },
    {
     "data": {
      "image/png": "[encoded data removed]",
      "text/plain": [
       "<Figure size 640x480 with 2 Axes>"
      ]
     },
     "metadata": {},
     "output_type": "display_data"
    }
   ],
   "source": [
    "from sklearn.metrics import confusion_matrix,ConfusionMatrixDisplay\n",
    "import matplotlib.pyplot as plt\n",
    "\n",
    "cmv =confusion_matrix(all_labels5,all_predictions5,labels=classes)\n",
    "cm = confusion_matrix(y_test_5,predicted_labels_5, labels=classes)\n",
    "\n",
    "# Create a ConfusionMatrixDisplay\n",
    "disp = ConfusionMatrixDisplay(confusion_matrix=cm, display_labels=classes)\n",
    "disp.plot(cmap=plt.cm.Blues)\n",
    "plt.title(\"Confusion Matrix\")\n",
    "plt.show()\n",
    "\n",
    "# Create a ConfusionMatrixDisplay\n",
    "disp = ConfusionMatrixDisplay(confusion_matrix=cmv, display_labels=classes)\n",
    "disp.plot(cmap=plt.cm.Greens)\n",
    "plt.title(\"Naive Bayes Confusion Matrix\")\n",
    "plt.show()"
   ]
  },
  {
   "cell_type": "markdown",
   "metadata": {},
   "source": [
    "# Four Class Classification"
   ]
  },
  {
   "cell_type": "code",
   "execution_count": 22,
   "metadata": {},
   "outputs": [
    {
     "name": "stdout",
     "output_type": "stream",
     "text": [
      "Training fold 1/5\n",
      "              precision    recall  f1-score   support\n",
      "\n",
      "           0       0.85      0.39      0.54        56\n",
      "           1       0.52      0.50      0.51        34\n",
      "           2       0.56      0.89      0.69        98\n",
      "           3       1.00      0.46      0.63        46\n",
      "\n",
      "    accuracy                           0.63       234\n",
      "   macro avg       0.73      0.56      0.59       234\n",
      "weighted avg       0.71      0.63      0.61       234\n",
      "\n",
      "Training fold 2/5\n",
      "              precision    recall  f1-score   support\n",
      "\n",
      "           0       0.79      0.50      0.61        54\n",
      "           1       0.68      0.49      0.57        43\n",
      "           2       0.53      0.91      0.67        79\n",
      "           3       1.00      0.55      0.71        58\n",
      "\n",
      "    accuracy                           0.65       234\n",
      "   macro avg       0.75      0.61      0.64       234\n",
      "weighted avg       0.73      0.65      0.65       234\n",
      "\n",
      "Training fold 3/5\n",
      "              precision    recall  f1-score   support\n",
      "\n",
      "           0       0.68      0.38      0.49        39\n",
      "           1       0.68      0.53      0.60        43\n",
      "           2       0.59      0.92      0.72        96\n",
      "           3       1.00      0.52      0.68        56\n",
      "\n",
      "    accuracy                           0.66       234\n",
      "   macro avg       0.74      0.59      0.62       234\n",
      "weighted avg       0.72      0.66      0.65       234\n",
      "\n",
      "Training fold 4/5\n",
      "              precision    recall  f1-score   support\n",
      "\n",
      "           0       0.74      0.56      0.63        45\n",
      "           1       0.75      0.43      0.55        56\n",
      "           2       0.54      0.95      0.69        79\n",
      "           3       1.00      0.56      0.71        54\n",
      "\n",
      "    accuracy                           0.66       234\n",
      "   macro avg       0.76      0.62      0.65       234\n",
      "weighted avg       0.74      0.66      0.65       234\n",
      "\n",
      "Training fold 5/5\n",
      "              precision    recall  f1-score   support\n",
      "\n",
      "           0       0.78      0.48      0.59        44\n",
      "           1       0.71      0.66      0.68        44\n",
      "           2       0.64      0.92      0.75        96\n",
      "           3       0.93      0.52      0.67        50\n",
      "\n",
      "    accuracy                           0.70       234\n",
      "   macro avg       0.76      0.64      0.67       234\n",
      "weighted avg       0.74      0.70      0.69       234\n",
      "\n",
      "              precision    recall  f1-score   support\n",
      "\n",
      "           0       0.77      0.46      0.58       238\n",
      "           1       0.67      0.52      0.58       220\n",
      "           2       0.57      0.92      0.70       448\n",
      "           3       0.99      0.52      0.68       264\n",
      "\n",
      "    accuracy                           0.66      1170\n",
      "   macro avg       0.75      0.60      0.64      1170\n",
      "weighted avg       0.72      0.66      0.65      1170\n",
      "\n"
     ]
    }
   ],
   "source": [
    "# Read dataset \n",
    "humor_4class_path = \"datasets/Humour_style_4classes.xlsx\" \n",
    "x_train_4, x_test_4, y_train_4, y_test_4 = read_dataset(humor_4class_path)\n",
    "\n",
    "# Lemmmatize (Spacy)\n",
    "x_train_4 = [' '.join(lemmatize_spacy(example)) for example in x_train_4]\n",
    "x_test_4  = [' '.join(lemmatize_spacy(example)) for example in x_test_4]\n",
    "\n",
    "# Convert to numpy array\n",
    "x_train_4, x_test_4 = np.array(x_train_4), np.array(x_test_4)\n",
    "\n",
    "# Cross validation\n",
    "output_dir4, all_predictions4, all_labels4, all_reports4 = cross_validation(\"4_Classes\",x_train_4,y_train_4)\n",
    "aggregated_reports4 = classification_report(all_labels4,all_predictions4)\n",
    "print(aggregated_reports4)\n",
    "\n",
    "# Save Aggregated Cross Validation Results\n",
    "cross_v_4= save_results(all_labels4,all_predictions4)\n",
    "cross_v_4.to_csv('cross_validation_results/Naive_Bayes_4classes.csv', index=False)"
   ]
  },
  {
   "cell_type": "code",
   "execution_count": 23,
   "metadata": {},
   "outputs": [
    {
     "name": "stdout",
     "output_type": "stream",
     "text": [
      "              precision    recall  f1-score   support\n",
      "\n",
      "           0       0.77      0.45      0.57        60\n",
      "           1       0.75      0.60      0.67        45\n",
      "           2       0.65      0.94      0.77       120\n",
      "           3       1.00      0.69      0.82        68\n",
      "\n",
      "    accuracy                           0.73       293\n",
      "   macro avg       0.79      0.67      0.70       293\n",
      "weighted avg       0.77      0.73      0.72       293\n",
      "\n"
     ]
    }
   ],
   "source": [
    "# Train Naive Bayes Model\n",
    "log_probs_4, ex_dics_4, prob_words_4,classes = naive_bayes_multi(x_train_4,y_train_4)\n",
    "\n",
    "# Test/Predict using Naive Bayes Model\n",
    "predicted_labels_4 = predict_naive_bayes(x_test_4, log_probs_4, prob_words_4)\n",
    "\n",
    "# Save Report\n",
    "result_4= save_results(y_test_4,predicted_labels_4)\n",
    "result_4.to_csv('models_results/Naive_Bayes_4classes.csv', index=False)\n",
    "\n",
    "# Evaluation Report\n",
    "print(classification_report(y_test_4,predicted_labels_4))"
   ]
  },
  {
   "cell_type": "markdown",
   "metadata": {},
   "source": [
    "# Two Class Classification"
   ]
  },
  {
   "cell_type": "code",
   "execution_count": 24,
   "metadata": {},
   "outputs": [
    {
     "name": "stdout",
     "output_type": "stream",
     "text": [
      "Training fold 1/5\n",
      "              precision    recall  f1-score   support\n",
      "\n",
      "           0       0.78      0.64      0.70        39\n",
      "           1       0.69      0.82      0.75        38\n",
      "\n",
      "    accuracy                           0.73        77\n",
      "   macro avg       0.74      0.73      0.73        77\n",
      "weighted avg       0.74      0.73      0.73        77\n",
      "\n",
      "Training fold 2/5\n",
      "              precision    recall  f1-score   support\n",
      "\n",
      "           0       0.77      0.64      0.70        36\n",
      "           1       0.72      0.83      0.77        41\n",
      "\n",
      "    accuracy                           0.74        77\n",
      "   macro avg       0.75      0.73      0.73        77\n",
      "weighted avg       0.74      0.74      0.74        77\n",
      "\n",
      "Training fold 3/5\n",
      "              precision    recall  f1-score   support\n",
      "\n",
      "           0       0.77      0.52      0.62        33\n",
      "           1       0.71      0.89      0.79        44\n",
      "\n",
      "    accuracy                           0.73        77\n",
      "   macro avg       0.74      0.70      0.70        77\n",
      "weighted avg       0.74      0.73      0.72        77\n",
      "\n",
      "Training fold 4/5\n",
      "              precision    recall  f1-score   support\n",
      "\n",
      "           0       0.68      0.71      0.69        35\n",
      "           1       0.75      0.71      0.73        42\n",
      "\n",
      "    accuracy                           0.71        77\n",
      "   macro avg       0.71      0.71      0.71        77\n",
      "weighted avg       0.72      0.71      0.71        77\n",
      "\n",
      "Training fold 5/5\n",
      "              precision    recall  f1-score   support\n",
      "\n",
      "           0       0.76      0.79      0.77        28\n",
      "           1       0.88      0.86      0.87        49\n",
      "\n",
      "    accuracy                           0.83        77\n",
      "   macro avg       0.82      0.82      0.82        77\n",
      "weighted avg       0.83      0.83      0.83        77\n",
      "\n",
      "              precision    recall  f1-score   support\n",
      "\n",
      "           0       0.75      0.65      0.70       171\n",
      "           1       0.75      0.82      0.78       214\n",
      "\n",
      "    accuracy                           0.75       385\n",
      "   macro avg       0.75      0.74      0.74       385\n",
      "weighted avg       0.75      0.75      0.75       385\n",
      "\n"
     ]
    }
   ],
   "source": [
    "# Read dataset \n",
    "train_2class_path = \"datasets/af_ag_train.xlsx\" \n",
    "test_2class_path  = \"datasets/af_ag_test.xlsx\" \n",
    "\n",
    "x_train_2, x_test_2, y_train_2, y_test_2 = read_train_test_dataset(train_2class_path, test_2class_path)\n",
    "\n",
    "# Lemmmatize (Spacy)\n",
    "x_train_2 = [' '.join(lemmatize_spacy(example)) for example in x_train_2]\n",
    "x_test_2  = [' '.join(lemmatize_spacy(example)) for example in x_test_2]\n",
    "\n",
    "# Convert to numpy array\n",
    "x_train_2, x_test_2 = np.array(x_train_2), np.array(x_test_2)\n",
    "\n",
    "# Cross validation\n",
    "output_dir2, all_predictions2, all_labels2, all_reports2 = cross_validation(\"2_Classes\",x_train_2,y_train_2)\n",
    "aggregated_reports2 = classification_report(all_labels2,all_predictions2)\n",
    "print(aggregated_reports2)\n",
    "\n",
    "# Save Aggregated Cross Validation Results\n",
    "cross_v_2= save_results(all_labels2,all_predictions2)\n",
    "cross_v_2.to_csv('cross_validation_results/Naive_Bayes_2classes.csv', index=False)\n"
   ]
  },
  {
   "cell_type": "code",
   "execution_count": 25,
   "metadata": {},
   "outputs": [
    {
     "name": "stdout",
     "output_type": "stream",
     "text": [
      "              precision    recall  f1-score   support\n",
      "\n",
      "           0       0.83      0.66      0.73        44\n",
      "           1       0.73      0.87      0.79        46\n",
      "\n",
      "    accuracy                           0.77        90\n",
      "   macro avg       0.78      0.76      0.76        90\n",
      "weighted avg       0.78      0.77      0.76        90\n",
      "\n"
     ]
    }
   ],
   "source": [
    "# Train Naive Bayes Model\n",
    "log_probs_2, ex_dics_2, prob_words_2,classes = naive_bayes_multi(x_train_2,y_train_2)\n",
    "\n",
    "# Test/Predict using Naive Bayes Model\n",
    "predicted_labels_2 = predict_naive_bayes(x_test_2, log_probs_2, prob_words_2)\n",
    "\n",
    "# Save Report\n",
    "result_2= save_results(y_test_2,predicted_labels_2)\n",
    "result_2.to_csv('models_results/Naive_Bayes_2classes.csv', index=False)\n",
    "\n",
    "# Evaluation Report\n",
    "print(classification_report(y_test_2,predicted_labels_2))"
   ]
  },
  {
   "cell_type": "markdown",
   "metadata": {},
   "source": [
    "# Test two model pipeline"
   ]
  },
  {
   "cell_type": "code",
   "execution_count": 27,
   "metadata": {},
   "outputs": [
    {
     "name": "stdout",
     "output_type": "stream",
     "text": [
      "Length of filtered x_test: 175\n",
      "              precision  recall  f1-score  support\n",
      "0                 0.771   0.450     0.568     60.0\n",
      "1                 0.750   0.600     0.667     45.0\n",
      "2                 0.590   0.790     0.676     62.0\n",
      "3                 0.522   0.828     0.640     58.0\n",
      "4                 1.000   0.691     0.817     68.0\n",
      "accuracy            NaN     NaN     0.676      NaN\n",
      "macro avg         0.727   0.672     0.674    293.0\n",
      "weighted avg      0.733   0.676     0.678    293.0\n"
     ]
    }
   ],
   "source": [
    "pred_two_model, binary_class = two_model_pipeline(x_test_5 ,log_probs_4, log_probs_2, prob_words_4, prob_words_2)\n",
    "y_test_5\n",
    "# Save Report\n",
    "two_model_result= save_results(y_test_5,pred_two_model)\n",
    "print(two_model_result)"
   ]
  },
  {
   "cell_type": "markdown",
   "metadata": {},
   "source": [
    "# Individual Jokes Predictions"
   ]
  },
  {
   "cell_type": "code",
   "execution_count": null,
   "metadata": {},
   "outputs": [],
   "source": [
    "# Function\n",
    "def predict_naive_bayes_single(example, log_probs, prob_words):\n",
    "    # Tokenize the example\n",
    "    example_tokens = tokens(example)\n",
    "\n",
    "    # Calculate the log likelihoods for each class\n",
    "    class_likelihoods = {}\n",
    "    for class_label, log_prob in log_probs.items():\n",
    "        class_likelihood = log_prob + sum(prob_words[class_label].get(word, 0) for word in example_tokens)\n",
    "        class_likelihoods[class_label] = class_likelihood\n",
    "\n",
    "    # Make a prediction based on the class with the highest likelihood\n",
    "    prediction = max(class_likelihoods, key=class_likelihoods.get)\n",
    "\n",
    "    return prediction\n"
   ]
  },
  {
   "cell_type": "markdown",
   "metadata": {},
   "source": [
    "#### Example usage of Single prediction function"
   ]
  },
  {
   "cell_type": "code",
   "execution_count": null,
   "metadata": {},
   "outputs": [
    {
     "name": "stdout",
     "output_type": "stream",
     "text": [
      "User Input: \"What’s the smartest insect? A spelling bee!\n",
      " 5 class Model prediction : 0\n",
      " 4 class Model prediction : 2\n",
      " 2 class Model prediction : 0; (Where 0-Affiliative, 1-Aggressive)\n"
     ]
    }
   ],
   "source": [
    "# User input\n",
    "#user_input = \"I am living my best live in a cage of sadness and loneliness\"\n",
    "user_input = \"What’s the smartest insect? A spelling bee!\"\n",
    "\n",
    "# Preprocess the user input\n",
    "preprocessed_input = lemmatize_spacy(user_input)  # Replace with your actual preprocessing function\n",
    "preprocessed_input = \", \".join(preprocessed_input)\n",
    "\n",
    "# Make predictions\n",
    "user_prediction_5 = predict_naive_bayes_single(preprocessed_input, log_probs_5, prob_words_5) # class model\n",
    "user_prediction_4 = predict_naive_bayes_single(preprocessed_input, log_probs_4, prob_words_4) #4 class model\n",
    "\n",
    "user_prediction_2 = \"None\"\n",
    "if int(user_prediction_4) == 2:\n",
    "    user_prediction_2 = predict_naive_bayes_single(preprocessed_input, log_probs_2, prob_words_2) #2 class model\n",
    "\n",
    "# Print the predicted label\n",
    "print(f'User Input: \"{user_input}\\n 5 class Model prediction : {user_prediction_5}\\n 4 class Model prediction : {user_prediction_4}')\n",
    "print(f' 2 class Model prediction : {user_prediction_2}; (Where 0-Affiliative, 1-Aggressive)')\n",
    "\n"
   ]
  }
 ],
 "metadata": {
  "kernelspec": {
   "display_name": "base",
   "language": "python",
   "name": "python3"
  },
  "language_info": {
   "codemirror_mode": {
    "name": "ipython",
    "version": 3
   },
   "file_extension": ".py",
   "mimetype": "text/x-python",
   "name": "python",
   "nbconvert_exporter": "python",
   "pygments_lexer": "ipython3",
   "version": "3.11.7"
  }
 },
 "nbformat": 4,
 "nbformat_minor": 2
}
